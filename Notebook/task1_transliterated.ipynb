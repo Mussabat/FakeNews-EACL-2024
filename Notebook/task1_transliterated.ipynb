{
  "metadata": {
    "accelerator": "GPU",
    "colab": {
      "provenance": [],
      "gpuType": "T4"
    },
    "kernelspec": {
      "name": "python3",
      "display_name": "Python 3",
      "language": "python"
    },
    "language_info": {
      "name": "python",
      "version": "3.10.12",
      "mimetype": "text/x-python",
      "codemirror_mode": {
        "name": "ipython",
        "version": 3
      },
      "pygments_lexer": "ipython3",
      "nbconvert_exporter": "python",
      "file_extension": ".py"
    },
    "kaggle": {
      "accelerator": "nvidiaTeslaT4",
      "dataSources": [
        {
          "sourceId": 7042218,
          "sourceType": "datasetVersion",
          "datasetId": 4051861
        }
      ],
      "dockerImageVersionId": 30587,
      "isInternetEnabled": true,
      "language": "python",
      "sourceType": "notebook",
      "isGpuEnabled": true
    }
  },
  "nbformat_minor": 0,
  "nbformat": 4,
  "cells": [
    {
      "cell_type": "code",
      "source": [
        "from google.colab import drive\n",
        "drive.mount('/content/drive')"
      ],
      "metadata": {
        "id": "5B7CpcO2e_EA",
        "execution": {
          "iopub.status.busy": "2023-11-24T13:57:33.778972Z",
          "iopub.execute_input": "2023-11-24T13:57:33.779352Z",
          "iopub.status.idle": "2023-11-24T13:57:33.784496Z",
          "shell.execute_reply.started": "2023-11-24T13:57:33.779312Z",
          "shell.execute_reply": "2023-11-24T13:57:33.783571Z"
        },
        "trusted": true,
        "colab": {
          "base_uri": "https://localhost:8080/"
        },
        "outputId": "891f80ea-f3e5-48b9-9134-56be9098af6a"
      },
      "execution_count": null,
      "outputs": [
        {
          "output_type": "stream",
          "name": "stdout",
          "text": [
            "Mounted at /content/drive\n"
          ]
        }
      ]
    },
    {
      "cell_type": "code",
      "source": [
        "%%time\n",
        "import os\n",
        "from glob import glob\n",
        "import numpy as np\n",
        "import matplotlib.pyplot as plt\n",
        "%matplotlib inline\n",
        "import pandas as pd\n",
        "import seaborn as sns\n",
        "import re\n",
        "import nltk\n",
        "import json\n",
        "from sklearn.preprocessing import MultiLabelBinarizer\n",
        "from sklearn.metrics import confusion_matrix\n",
        "from sklearn.metrics import classification_report\n",
        "from sklearn.model_selection import train_test_split\n",
        "from sklearn.metrics import accuracy_score,precision_score,recall_score,f1_score,roc_auc_score\n",
        "from sklearn.metrics import average_precision_score,roc_auc_score, roc_curve, precision_recall_curve\n",
        "from sklearn.preprocessing import LabelEncoder\n",
        "np.random.seed(42)\n",
        "import nltk\n",
        "nltk.download('punkt')\n",
        "from nltk.corpus import stopwords\n",
        "from nltk.tokenize import word_tokenize\n",
        "from nltk.tokenize import ToktokTokenizer\n",
        "import nltk, string, re, spacy,unicodedata, random\n",
        "from bs4 import BeautifulSoup\n",
        "import warnings\n",
        "warnings.filterwarnings('ignore')"
      ],
      "metadata": {
        "id": "yHlMmFXFfVGu",
        "outputId": "d332dc05-7d72-4964-e1cc-e1216101b73a",
        "execution": {
          "iopub.status.busy": "2023-11-24T13:57:33.786535Z",
          "iopub.execute_input": "2023-11-24T13:57:33.787457Z",
          "iopub.status.idle": "2023-11-24T13:57:42.971847Z",
          "shell.execute_reply.started": "2023-11-24T13:57:33.787430Z",
          "shell.execute_reply": "2023-11-24T13:57:42.970832Z"
        },
        "trusted": true,
        "colab": {
          "base_uri": "https://localhost:8080/"
        }
      },
      "execution_count": null,
      "outputs": [
        {
          "output_type": "stream",
          "name": "stderr",
          "text": [
            "[nltk_data] Downloading package punkt to /root/nltk_data...\n",
            "[nltk_data]   Unzipping tokenizers/punkt.zip.\n"
          ]
        },
        {
          "output_type": "stream",
          "name": "stdout",
          "text": [
            "CPU times: user 6.76 s, sys: 975 ms, total: 7.74 s\n",
            "Wall time: 11.2 s\n"
          ]
        }
      ]
    },
    {
      "cell_type": "code",
      "source": [
        "import pandas as pd\n",
        "\n",
        "# Define the corrected file paths\n",
        "train_file_path = \"/content/drive/MyDrive/Punny_Punctuators/DravidianLangTech@EACL_2024/Task_1/transliterated_task1.csv\"\n",
        "valid_file_path = \"/content/drive/MyDrive/Punny_Punctuators/DravidianLangTech@EACL_2024/Task_1/validation_transliterated_task_1.csv\"\n",
        "test_file_path = \"/content/drive/MyDrive/Punny_Punctuators/DravidianLangTech@EACL_2024/Task_1/test_transliterated.csv\"\n",
        "\n",
        "# Load the CSV files\n",
        "train_data = pd.read_csv(train_file_path, delimiter=',', header=0)\n",
        "valid_data = pd.read_csv(valid_file_path, delimiter=',', header=0)\n",
        "test_data = pd.read_csv(test_file_path, delimiter=',', header=0)"
      ],
      "metadata": {
        "id": "KTgZ-SQbfhuu",
        "execution": {
          "iopub.status.busy": "2023-11-24T13:57:42.973174Z",
          "iopub.execute_input": "2023-11-24T13:57:42.973663Z",
          "iopub.status.idle": "2023-11-24T13:57:43.102948Z",
          "shell.execute_reply.started": "2023-11-24T13:57:42.973634Z",
          "shell.execute_reply": "2023-11-24T13:57:43.101930Z"
        },
        "trusted": true
      },
      "execution_count": null,
      "outputs": []
    },
    {
      "cell_type": "code",
      "source": [
        "train_data = train_data[['transliterated_text', 'label']]"
      ],
      "metadata": {
        "id": "I8yuFsxn2aRh",
        "execution": {
          "iopub.status.busy": "2023-11-24T13:57:43.105706Z",
          "iopub.execute_input": "2023-11-24T13:57:43.106578Z",
          "iopub.status.idle": "2023-11-24T13:57:43.124089Z",
          "shell.execute_reply.started": "2023-11-24T13:57:43.106537Z",
          "shell.execute_reply": "2023-11-24T13:57:43.123020Z"
        },
        "trusted": true
      },
      "execution_count": null,
      "outputs": []
    },
    {
      "cell_type": "code",
      "source": [
        "train_data.head()"
      ],
      "metadata": {
        "id": "PKNFU-b6fkx2",
        "outputId": "4c6b7a0d-6254-4a11-a63b-2c474c8bdd5a",
        "execution": {
          "iopub.status.busy": "2023-11-24T13:57:43.125617Z",
          "iopub.execute_input": "2023-11-24T13:57:43.126108Z",
          "iopub.status.idle": "2023-11-24T13:57:43.143757Z",
          "shell.execute_reply.started": "2023-11-24T13:57:43.126051Z",
          "shell.execute_reply": "2023-11-24T13:57:43.142924Z"
        },
        "trusted": true,
        "colab": {
          "base_uri": "https://localhost:8080/",
          "height": 206
        }
      },
      "execution_count": null,
      "outputs": [
        {
          "output_type": "execute_result",
          "data": {
            "text/plain": [
              "                                 transliterated_text     label\n",
              "0                  നല്ല അവതരണം. സത്യം പുറത്തു വരട്ടെ      Fake\n",
              "1                                          മാഷ അല്ലാ      Fake\n",
              "2  അന്വേഷണം കഴിയുമ്പോൾ,. സി. അ. അ. യ്ക്ക് എതിരായ ...      Fake\n",
              "3    ഇല്ലതെന്ത അവരു പുറത്ത് വിടയിട്ടല്ലണ്ട് വേറെന്ത്      Fake\n",
              "4  ബറാന പക്ഷത്തിന് മറ്റൊരു നിയമം.നല്ല മൊയന്ത് മന്...  original"
            ],
            "text/html": [
              "\n",
              "  <div id=\"df-2cb6d63b-aca6-4eda-b64f-72e9a33eb96e\" class=\"colab-df-container\">\n",
              "    <div>\n",
              "<style scoped>\n",
              "    .dataframe tbody tr th:only-of-type {\n",
              "        vertical-align: middle;\n",
              "    }\n",
              "\n",
              "    .dataframe tbody tr th {\n",
              "        vertical-align: top;\n",
              "    }\n",
              "\n",
              "    .dataframe thead th {\n",
              "        text-align: right;\n",
              "    }\n",
              "</style>\n",
              "<table border=\"1\" class=\"dataframe\">\n",
              "  <thead>\n",
              "    <tr style=\"text-align: right;\">\n",
              "      <th></th>\n",
              "      <th>transliterated_text</th>\n",
              "      <th>label</th>\n",
              "    </tr>\n",
              "  </thead>\n",
              "  <tbody>\n",
              "    <tr>\n",
              "      <th>0</th>\n",
              "      <td>നല്ല അവതരണം. സത്യം പുറത്തു വരട്ടെ</td>\n",
              "      <td>Fake</td>\n",
              "    </tr>\n",
              "    <tr>\n",
              "      <th>1</th>\n",
              "      <td>മാഷ അല്ലാ</td>\n",
              "      <td>Fake</td>\n",
              "    </tr>\n",
              "    <tr>\n",
              "      <th>2</th>\n",
              "      <td>അന്വേഷണം കഴിയുമ്പോൾ,. സി. അ. അ. യ്ക്ക് എതിരായ ...</td>\n",
              "      <td>Fake</td>\n",
              "    </tr>\n",
              "    <tr>\n",
              "      <th>3</th>\n",
              "      <td>ഇല്ലതെന്ത അവരു പുറത്ത് വിടയിട്ടല്ലണ്ട് വേറെന്ത്</td>\n",
              "      <td>Fake</td>\n",
              "    </tr>\n",
              "    <tr>\n",
              "      <th>4</th>\n",
              "      <td>ബറാന പക്ഷത്തിന് മറ്റൊരു നിയമം.നല്ല മൊയന്ത് മന്...</td>\n",
              "      <td>original</td>\n",
              "    </tr>\n",
              "  </tbody>\n",
              "</table>\n",
              "</div>\n",
              "    <div class=\"colab-df-buttons\">\n",
              "\n",
              "  <div class=\"colab-df-container\">\n",
              "    <button class=\"colab-df-convert\" onclick=\"convertToInteractive('df-2cb6d63b-aca6-4eda-b64f-72e9a33eb96e')\"\n",
              "            title=\"Convert this dataframe to an interactive table.\"\n",
              "            style=\"display:none;\">\n",
              "\n",
              "  <svg xmlns=\"http://www.w3.org/2000/svg\" height=\"24px\" viewBox=\"0 -960 960 960\">\n",
              "    <path d=\"M120-120v-720h720v720H120Zm60-500h600v-160H180v160Zm220 220h160v-160H400v160Zm0 220h160v-160H400v160ZM180-400h160v-160H180v160Zm440 0h160v-160H620v160ZM180-180h160v-160H180v160Zm440 0h160v-160H620v160Z\"/>\n",
              "  </svg>\n",
              "    </button>\n",
              "\n",
              "  <style>\n",
              "    .colab-df-container {\n",
              "      display:flex;\n",
              "      gap: 12px;\n",
              "    }\n",
              "\n",
              "    .colab-df-convert {\n",
              "      background-color: #E8F0FE;\n",
              "      border: none;\n",
              "      border-radius: 50%;\n",
              "      cursor: pointer;\n",
              "      display: none;\n",
              "      fill: #1967D2;\n",
              "      height: 32px;\n",
              "      padding: 0 0 0 0;\n",
              "      width: 32px;\n",
              "    }\n",
              "\n",
              "    .colab-df-convert:hover {\n",
              "      background-color: #E2EBFA;\n",
              "      box-shadow: 0px 1px 2px rgba(60, 64, 67, 0.3), 0px 1px 3px 1px rgba(60, 64, 67, 0.15);\n",
              "      fill: #174EA6;\n",
              "    }\n",
              "\n",
              "    .colab-df-buttons div {\n",
              "      margin-bottom: 4px;\n",
              "    }\n",
              "\n",
              "    [theme=dark] .colab-df-convert {\n",
              "      background-color: #3B4455;\n",
              "      fill: #D2E3FC;\n",
              "    }\n",
              "\n",
              "    [theme=dark] .colab-df-convert:hover {\n",
              "      background-color: #434B5C;\n",
              "      box-shadow: 0px 1px 3px 1px rgba(0, 0, 0, 0.15);\n",
              "      filter: drop-shadow(0px 1px 2px rgba(0, 0, 0, 0.3));\n",
              "      fill: #FFFFFF;\n",
              "    }\n",
              "  </style>\n",
              "\n",
              "    <script>\n",
              "      const buttonEl =\n",
              "        document.querySelector('#df-2cb6d63b-aca6-4eda-b64f-72e9a33eb96e button.colab-df-convert');\n",
              "      buttonEl.style.display =\n",
              "        google.colab.kernel.accessAllowed ? 'block' : 'none';\n",
              "\n",
              "      async function convertToInteractive(key) {\n",
              "        const element = document.querySelector('#df-2cb6d63b-aca6-4eda-b64f-72e9a33eb96e');\n",
              "        const dataTable =\n",
              "          await google.colab.kernel.invokeFunction('convertToInteractive',\n",
              "                                                    [key], {});\n",
              "        if (!dataTable) return;\n",
              "\n",
              "        const docLinkHtml = 'Like what you see? Visit the ' +\n",
              "          '<a target=\"_blank\" href=https://colab.research.google.com/notebooks/data_table.ipynb>data table notebook</a>'\n",
              "          + ' to learn more about interactive tables.';\n",
              "        element.innerHTML = '';\n",
              "        dataTable['output_type'] = 'display_data';\n",
              "        await google.colab.output.renderOutput(dataTable, element);\n",
              "        const docLink = document.createElement('div');\n",
              "        docLink.innerHTML = docLinkHtml;\n",
              "        element.appendChild(docLink);\n",
              "      }\n",
              "    </script>\n",
              "  </div>\n",
              "\n",
              "\n",
              "<div id=\"df-b95c4f7a-11af-42ce-b0de-a46a845e6987\">\n",
              "  <button class=\"colab-df-quickchart\" onclick=\"quickchart('df-b95c4f7a-11af-42ce-b0de-a46a845e6987')\"\n",
              "            title=\"Suggest charts\"\n",
              "            style=\"display:none;\">\n",
              "\n",
              "<svg xmlns=\"http://www.w3.org/2000/svg\" height=\"24px\"viewBox=\"0 0 24 24\"\n",
              "     width=\"24px\">\n",
              "    <g>\n",
              "        <path d=\"M19 3H5c-1.1 0-2 .9-2 2v14c0 1.1.9 2 2 2h14c1.1 0 2-.9 2-2V5c0-1.1-.9-2-2-2zM9 17H7v-7h2v7zm4 0h-2V7h2v10zm4 0h-2v-4h2v4z\"/>\n",
              "    </g>\n",
              "</svg>\n",
              "  </button>\n",
              "\n",
              "<style>\n",
              "  .colab-df-quickchart {\n",
              "      --bg-color: #E8F0FE;\n",
              "      --fill-color: #1967D2;\n",
              "      --hover-bg-color: #E2EBFA;\n",
              "      --hover-fill-color: #174EA6;\n",
              "      --disabled-fill-color: #AAA;\n",
              "      --disabled-bg-color: #DDD;\n",
              "  }\n",
              "\n",
              "  [theme=dark] .colab-df-quickchart {\n",
              "      --bg-color: #3B4455;\n",
              "      --fill-color: #D2E3FC;\n",
              "      --hover-bg-color: #434B5C;\n",
              "      --hover-fill-color: #FFFFFF;\n",
              "      --disabled-bg-color: #3B4455;\n",
              "      --disabled-fill-color: #666;\n",
              "  }\n",
              "\n",
              "  .colab-df-quickchart {\n",
              "    background-color: var(--bg-color);\n",
              "    border: none;\n",
              "    border-radius: 50%;\n",
              "    cursor: pointer;\n",
              "    display: none;\n",
              "    fill: var(--fill-color);\n",
              "    height: 32px;\n",
              "    padding: 0;\n",
              "    width: 32px;\n",
              "  }\n",
              "\n",
              "  .colab-df-quickchart:hover {\n",
              "    background-color: var(--hover-bg-color);\n",
              "    box-shadow: 0 1px 2px rgba(60, 64, 67, 0.3), 0 1px 3px 1px rgba(60, 64, 67, 0.15);\n",
              "    fill: var(--button-hover-fill-color);\n",
              "  }\n",
              "\n",
              "  .colab-df-quickchart-complete:disabled,\n",
              "  .colab-df-quickchart-complete:disabled:hover {\n",
              "    background-color: var(--disabled-bg-color);\n",
              "    fill: var(--disabled-fill-color);\n",
              "    box-shadow: none;\n",
              "  }\n",
              "\n",
              "  .colab-df-spinner {\n",
              "    border: 2px solid var(--fill-color);\n",
              "    border-color: transparent;\n",
              "    border-bottom-color: var(--fill-color);\n",
              "    animation:\n",
              "      spin 1s steps(1) infinite;\n",
              "  }\n",
              "\n",
              "  @keyframes spin {\n",
              "    0% {\n",
              "      border-color: transparent;\n",
              "      border-bottom-color: var(--fill-color);\n",
              "      border-left-color: var(--fill-color);\n",
              "    }\n",
              "    20% {\n",
              "      border-color: transparent;\n",
              "      border-left-color: var(--fill-color);\n",
              "      border-top-color: var(--fill-color);\n",
              "    }\n",
              "    30% {\n",
              "      border-color: transparent;\n",
              "      border-left-color: var(--fill-color);\n",
              "      border-top-color: var(--fill-color);\n",
              "      border-right-color: var(--fill-color);\n",
              "    }\n",
              "    40% {\n",
              "      border-color: transparent;\n",
              "      border-right-color: var(--fill-color);\n",
              "      border-top-color: var(--fill-color);\n",
              "    }\n",
              "    60% {\n",
              "      border-color: transparent;\n",
              "      border-right-color: var(--fill-color);\n",
              "    }\n",
              "    80% {\n",
              "      border-color: transparent;\n",
              "      border-right-color: var(--fill-color);\n",
              "      border-bottom-color: var(--fill-color);\n",
              "    }\n",
              "    90% {\n",
              "      border-color: transparent;\n",
              "      border-bottom-color: var(--fill-color);\n",
              "    }\n",
              "  }\n",
              "</style>\n",
              "\n",
              "  <script>\n",
              "    async function quickchart(key) {\n",
              "      const quickchartButtonEl =\n",
              "        document.querySelector('#' + key + ' button');\n",
              "      quickchartButtonEl.disabled = true;  // To prevent multiple clicks.\n",
              "      quickchartButtonEl.classList.add('colab-df-spinner');\n",
              "      try {\n",
              "        const charts = await google.colab.kernel.invokeFunction(\n",
              "            'suggestCharts', [key], {});\n",
              "      } catch (error) {\n",
              "        console.error('Error during call to suggestCharts:', error);\n",
              "      }\n",
              "      quickchartButtonEl.classList.remove('colab-df-spinner');\n",
              "      quickchartButtonEl.classList.add('colab-df-quickchart-complete');\n",
              "    }\n",
              "    (() => {\n",
              "      let quickchartButtonEl =\n",
              "        document.querySelector('#df-b95c4f7a-11af-42ce-b0de-a46a845e6987 button');\n",
              "      quickchartButtonEl.style.display =\n",
              "        google.colab.kernel.accessAllowed ? 'block' : 'none';\n",
              "    })();\n",
              "  </script>\n",
              "</div>\n",
              "    </div>\n",
              "  </div>\n"
            ]
          },
          "metadata": {},
          "execution_count": 5
        }
      ]
    },
    {
      "cell_type": "code",
      "source": [
        "train_data.shape"
      ],
      "metadata": {
        "id": "G4dJxIgHfnqu",
        "outputId": "6dce6097-f4e0-40df-94e5-3480641ad858",
        "execution": {
          "iopub.status.busy": "2023-11-24T13:57:43.145096Z",
          "iopub.execute_input": "2023-11-24T13:57:43.145383Z",
          "iopub.status.idle": "2023-11-24T13:57:43.150882Z",
          "shell.execute_reply.started": "2023-11-24T13:57:43.145358Z",
          "shell.execute_reply": "2023-11-24T13:57:43.149983Z"
        },
        "trusted": true,
        "colab": {
          "base_uri": "https://localhost:8080/"
        }
      },
      "execution_count": null,
      "outputs": [
        {
          "output_type": "execute_result",
          "data": {
            "text/plain": [
              "(3257, 2)"
            ]
          },
          "metadata": {},
          "execution_count": 6
        }
      ]
    },
    {
      "cell_type": "code",
      "source": [
        "train_data.columns"
      ],
      "metadata": {
        "id": "mz8Hcysffp8-",
        "outputId": "80e9efac-eef4-4724-d600-122eec30cd9a",
        "execution": {
          "iopub.status.busy": "2023-11-24T13:57:43.152114Z",
          "iopub.execute_input": "2023-11-24T13:57:43.152393Z",
          "iopub.status.idle": "2023-11-24T13:57:43.162566Z",
          "shell.execute_reply.started": "2023-11-24T13:57:43.152348Z",
          "shell.execute_reply": "2023-11-24T13:57:43.161643Z"
        },
        "trusted": true,
        "colab": {
          "base_uri": "https://localhost:8080/"
        }
      },
      "execution_count": null,
      "outputs": [
        {
          "output_type": "execute_result",
          "data": {
            "text/plain": [
              "Index(['transliterated_text', 'label'], dtype='object')"
            ]
          },
          "metadata": {},
          "execution_count": 7
        }
      ]
    },
    {
      "cell_type": "code",
      "source": [
        "test_data.columns"
      ],
      "metadata": {
        "id": "eaznQarKfp6N",
        "outputId": "e6031d5d-d616-47eb-c026-74937555a4ae",
        "execution": {
          "iopub.status.busy": "2023-11-24T13:57:43.163764Z",
          "iopub.execute_input": "2023-11-24T13:57:43.164301Z",
          "iopub.status.idle": "2023-11-24T13:57:43.174287Z",
          "shell.execute_reply.started": "2023-11-24T13:57:43.164271Z",
          "shell.execute_reply": "2023-11-24T13:57:43.173377Z"
        },
        "trusted": true,
        "colab": {
          "base_uri": "https://localhost:8080/"
        }
      },
      "execution_count": null,
      "outputs": [
        {
          "output_type": "execute_result",
          "data": {
            "text/plain": [
              "Index(['Unnamed: 0', 'text', 'cleaned', 'transliterated_text'], dtype='object')"
            ]
          },
          "metadata": {},
          "execution_count": 8
        }
      ]
    },
    {
      "cell_type": "code",
      "source": [
        "# Assuming the correct column name is 'Unnamed: 0 ' (with trailing space)\n",
        "train_data = train_data.drop(columns='Unnamed: 0', errors='ignore')\n",
        "\n",
        "# Renaming columns\n",
        "train_data = train_data.rename(columns={'text                ': 'text', 'category': 'label'})\n",
        "# Stripping whitespaces from column names\n",
        "valid_data.columns = valid_data.columns.str.strip()\n",
        "\n",
        "# Dropping the column 'Unnamed: 0' (with possible leading/trailing spaces)\n",
        "valid_data = valid_data.drop(columns='Unnamed: 0', errors='ignore')\n",
        "\n",
        "# Renaming columns\n",
        "valid_data = valid_data.rename(columns={'text                        ': 'text', 'category': 'label'})\n",
        "\n",
        "test_data = test_data.rename(columns={'text                        ':'text'})"
      ],
      "metadata": {
        "id": "7LNcQ-8wfp0o",
        "execution": {
          "iopub.status.busy": "2023-11-24T13:57:43.175515Z",
          "iopub.execute_input": "2023-11-24T13:57:43.175865Z",
          "iopub.status.idle": "2023-11-24T13:57:43.188299Z",
          "shell.execute_reply.started": "2023-11-24T13:57:43.175831Z",
          "shell.execute_reply": "2023-11-24T13:57:43.187495Z"
        },
        "trusted": true
      },
      "execution_count": null,
      "outputs": []
    },
    {
      "cell_type": "code",
      "source": [
        "train_data.head()"
      ],
      "metadata": {
        "id": "o-Ba1LGTfpxf",
        "outputId": "e85a759c-43ad-4fa7-933a-85a267aecfbb",
        "execution": {
          "iopub.status.busy": "2023-11-24T13:57:43.192143Z",
          "iopub.execute_input": "2023-11-24T13:57:43.192444Z",
          "iopub.status.idle": "2023-11-24T13:57:43.209629Z",
          "shell.execute_reply.started": "2023-11-24T13:57:43.192418Z",
          "shell.execute_reply": "2023-11-24T13:57:43.208558Z"
        },
        "trusted": true,
        "colab": {
          "base_uri": "https://localhost:8080/",
          "height": 206
        }
      },
      "execution_count": null,
      "outputs": [
        {
          "output_type": "execute_result",
          "data": {
            "text/plain": [
              "                                 transliterated_text     label\n",
              "0                  നല്ല അവതരണം. സത്യം പുറത്തു വരട്ടെ      Fake\n",
              "1                                          മാഷ അല്ലാ      Fake\n",
              "2  അന്വേഷണം കഴിയുമ്പോൾ,. സി. അ. അ. യ്ക്ക് എതിരായ ...      Fake\n",
              "3    ഇല്ലതെന്ത അവരു പുറത്ത് വിടയിട്ടല്ലണ്ട് വേറെന്ത്      Fake\n",
              "4  ബറാന പക്ഷത്തിന് മറ്റൊരു നിയമം.നല്ല മൊയന്ത് മന്...  original"
            ],
            "text/html": [
              "\n",
              "  <div id=\"df-04b4101b-2f50-4558-94a6-4f6ab650473a\" class=\"colab-df-container\">\n",
              "    <div>\n",
              "<style scoped>\n",
              "    .dataframe tbody tr th:only-of-type {\n",
              "        vertical-align: middle;\n",
              "    }\n",
              "\n",
              "    .dataframe tbody tr th {\n",
              "        vertical-align: top;\n",
              "    }\n",
              "\n",
              "    .dataframe thead th {\n",
              "        text-align: right;\n",
              "    }\n",
              "</style>\n",
              "<table border=\"1\" class=\"dataframe\">\n",
              "  <thead>\n",
              "    <tr style=\"text-align: right;\">\n",
              "      <th></th>\n",
              "      <th>transliterated_text</th>\n",
              "      <th>label</th>\n",
              "    </tr>\n",
              "  </thead>\n",
              "  <tbody>\n",
              "    <tr>\n",
              "      <th>0</th>\n",
              "      <td>നല്ല അവതരണം. സത്യം പുറത്തു വരട്ടെ</td>\n",
              "      <td>Fake</td>\n",
              "    </tr>\n",
              "    <tr>\n",
              "      <th>1</th>\n",
              "      <td>മാഷ അല്ലാ</td>\n",
              "      <td>Fake</td>\n",
              "    </tr>\n",
              "    <tr>\n",
              "      <th>2</th>\n",
              "      <td>അന്വേഷണം കഴിയുമ്പോൾ,. സി. അ. അ. യ്ക്ക് എതിരായ ...</td>\n",
              "      <td>Fake</td>\n",
              "    </tr>\n",
              "    <tr>\n",
              "      <th>3</th>\n",
              "      <td>ഇല്ലതെന്ത അവരു പുറത്ത് വിടയിട്ടല്ലണ്ട് വേറെന്ത്</td>\n",
              "      <td>Fake</td>\n",
              "    </tr>\n",
              "    <tr>\n",
              "      <th>4</th>\n",
              "      <td>ബറാന പക്ഷത്തിന് മറ്റൊരു നിയമം.നല്ല മൊയന്ത് മന്...</td>\n",
              "      <td>original</td>\n",
              "    </tr>\n",
              "  </tbody>\n",
              "</table>\n",
              "</div>\n",
              "    <div class=\"colab-df-buttons\">\n",
              "\n",
              "  <div class=\"colab-df-container\">\n",
              "    <button class=\"colab-df-convert\" onclick=\"convertToInteractive('df-04b4101b-2f50-4558-94a6-4f6ab650473a')\"\n",
              "            title=\"Convert this dataframe to an interactive table.\"\n",
              "            style=\"display:none;\">\n",
              "\n",
              "  <svg xmlns=\"http://www.w3.org/2000/svg\" height=\"24px\" viewBox=\"0 -960 960 960\">\n",
              "    <path d=\"M120-120v-720h720v720H120Zm60-500h600v-160H180v160Zm220 220h160v-160H400v160Zm0 220h160v-160H400v160ZM180-400h160v-160H180v160Zm440 0h160v-160H620v160ZM180-180h160v-160H180v160Zm440 0h160v-160H620v160Z\"/>\n",
              "  </svg>\n",
              "    </button>\n",
              "\n",
              "  <style>\n",
              "    .colab-df-container {\n",
              "      display:flex;\n",
              "      gap: 12px;\n",
              "    }\n",
              "\n",
              "    .colab-df-convert {\n",
              "      background-color: #E8F0FE;\n",
              "      border: none;\n",
              "      border-radius: 50%;\n",
              "      cursor: pointer;\n",
              "      display: none;\n",
              "      fill: #1967D2;\n",
              "      height: 32px;\n",
              "      padding: 0 0 0 0;\n",
              "      width: 32px;\n",
              "    }\n",
              "\n",
              "    .colab-df-convert:hover {\n",
              "      background-color: #E2EBFA;\n",
              "      box-shadow: 0px 1px 2px rgba(60, 64, 67, 0.3), 0px 1px 3px 1px rgba(60, 64, 67, 0.15);\n",
              "      fill: #174EA6;\n",
              "    }\n",
              "\n",
              "    .colab-df-buttons div {\n",
              "      margin-bottom: 4px;\n",
              "    }\n",
              "\n",
              "    [theme=dark] .colab-df-convert {\n",
              "      background-color: #3B4455;\n",
              "      fill: #D2E3FC;\n",
              "    }\n",
              "\n",
              "    [theme=dark] .colab-df-convert:hover {\n",
              "      background-color: #434B5C;\n",
              "      box-shadow: 0px 1px 3px 1px rgba(0, 0, 0, 0.15);\n",
              "      filter: drop-shadow(0px 1px 2px rgba(0, 0, 0, 0.3));\n",
              "      fill: #FFFFFF;\n",
              "    }\n",
              "  </style>\n",
              "\n",
              "    <script>\n",
              "      const buttonEl =\n",
              "        document.querySelector('#df-04b4101b-2f50-4558-94a6-4f6ab650473a button.colab-df-convert');\n",
              "      buttonEl.style.display =\n",
              "        google.colab.kernel.accessAllowed ? 'block' : 'none';\n",
              "\n",
              "      async function convertToInteractive(key) {\n",
              "        const element = document.querySelector('#df-04b4101b-2f50-4558-94a6-4f6ab650473a');\n",
              "        const dataTable =\n",
              "          await google.colab.kernel.invokeFunction('convertToInteractive',\n",
              "                                                    [key], {});\n",
              "        if (!dataTable) return;\n",
              "\n",
              "        const docLinkHtml = 'Like what you see? Visit the ' +\n",
              "          '<a target=\"_blank\" href=https://colab.research.google.com/notebooks/data_table.ipynb>data table notebook</a>'\n",
              "          + ' to learn more about interactive tables.';\n",
              "        element.innerHTML = '';\n",
              "        dataTable['output_type'] = 'display_data';\n",
              "        await google.colab.output.renderOutput(dataTable, element);\n",
              "        const docLink = document.createElement('div');\n",
              "        docLink.innerHTML = docLinkHtml;\n",
              "        element.appendChild(docLink);\n",
              "      }\n",
              "    </script>\n",
              "  </div>\n",
              "\n",
              "\n",
              "<div id=\"df-b8a90d76-8222-406e-82ab-53545ca2d93a\">\n",
              "  <button class=\"colab-df-quickchart\" onclick=\"quickchart('df-b8a90d76-8222-406e-82ab-53545ca2d93a')\"\n",
              "            title=\"Suggest charts\"\n",
              "            style=\"display:none;\">\n",
              "\n",
              "<svg xmlns=\"http://www.w3.org/2000/svg\" height=\"24px\"viewBox=\"0 0 24 24\"\n",
              "     width=\"24px\">\n",
              "    <g>\n",
              "        <path d=\"M19 3H5c-1.1 0-2 .9-2 2v14c0 1.1.9 2 2 2h14c1.1 0 2-.9 2-2V5c0-1.1-.9-2-2-2zM9 17H7v-7h2v7zm4 0h-2V7h2v10zm4 0h-2v-4h2v4z\"/>\n",
              "    </g>\n",
              "</svg>\n",
              "  </button>\n",
              "\n",
              "<style>\n",
              "  .colab-df-quickchart {\n",
              "      --bg-color: #E8F0FE;\n",
              "      --fill-color: #1967D2;\n",
              "      --hover-bg-color: #E2EBFA;\n",
              "      --hover-fill-color: #174EA6;\n",
              "      --disabled-fill-color: #AAA;\n",
              "      --disabled-bg-color: #DDD;\n",
              "  }\n",
              "\n",
              "  [theme=dark] .colab-df-quickchart {\n",
              "      --bg-color: #3B4455;\n",
              "      --fill-color: #D2E3FC;\n",
              "      --hover-bg-color: #434B5C;\n",
              "      --hover-fill-color: #FFFFFF;\n",
              "      --disabled-bg-color: #3B4455;\n",
              "      --disabled-fill-color: #666;\n",
              "  }\n",
              "\n",
              "  .colab-df-quickchart {\n",
              "    background-color: var(--bg-color);\n",
              "    border: none;\n",
              "    border-radius: 50%;\n",
              "    cursor: pointer;\n",
              "    display: none;\n",
              "    fill: var(--fill-color);\n",
              "    height: 32px;\n",
              "    padding: 0;\n",
              "    width: 32px;\n",
              "  }\n",
              "\n",
              "  .colab-df-quickchart:hover {\n",
              "    background-color: var(--hover-bg-color);\n",
              "    box-shadow: 0 1px 2px rgba(60, 64, 67, 0.3), 0 1px 3px 1px rgba(60, 64, 67, 0.15);\n",
              "    fill: var(--button-hover-fill-color);\n",
              "  }\n",
              "\n",
              "  .colab-df-quickchart-complete:disabled,\n",
              "  .colab-df-quickchart-complete:disabled:hover {\n",
              "    background-color: var(--disabled-bg-color);\n",
              "    fill: var(--disabled-fill-color);\n",
              "    box-shadow: none;\n",
              "  }\n",
              "\n",
              "  .colab-df-spinner {\n",
              "    border: 2px solid var(--fill-color);\n",
              "    border-color: transparent;\n",
              "    border-bottom-color: var(--fill-color);\n",
              "    animation:\n",
              "      spin 1s steps(1) infinite;\n",
              "  }\n",
              "\n",
              "  @keyframes spin {\n",
              "    0% {\n",
              "      border-color: transparent;\n",
              "      border-bottom-color: var(--fill-color);\n",
              "      border-left-color: var(--fill-color);\n",
              "    }\n",
              "    20% {\n",
              "      border-color: transparent;\n",
              "      border-left-color: var(--fill-color);\n",
              "      border-top-color: var(--fill-color);\n",
              "    }\n",
              "    30% {\n",
              "      border-color: transparent;\n",
              "      border-left-color: var(--fill-color);\n",
              "      border-top-color: var(--fill-color);\n",
              "      border-right-color: var(--fill-color);\n",
              "    }\n",
              "    40% {\n",
              "      border-color: transparent;\n",
              "      border-right-color: var(--fill-color);\n",
              "      border-top-color: var(--fill-color);\n",
              "    }\n",
              "    60% {\n",
              "      border-color: transparent;\n",
              "      border-right-color: var(--fill-color);\n",
              "    }\n",
              "    80% {\n",
              "      border-color: transparent;\n",
              "      border-right-color: var(--fill-color);\n",
              "      border-bottom-color: var(--fill-color);\n",
              "    }\n",
              "    90% {\n",
              "      border-color: transparent;\n",
              "      border-bottom-color: var(--fill-color);\n",
              "    }\n",
              "  }\n",
              "</style>\n",
              "\n",
              "  <script>\n",
              "    async function quickchart(key) {\n",
              "      const quickchartButtonEl =\n",
              "        document.querySelector('#' + key + ' button');\n",
              "      quickchartButtonEl.disabled = true;  // To prevent multiple clicks.\n",
              "      quickchartButtonEl.classList.add('colab-df-spinner');\n",
              "      try {\n",
              "        const charts = await google.colab.kernel.invokeFunction(\n",
              "            'suggestCharts', [key], {});\n",
              "      } catch (error) {\n",
              "        console.error('Error during call to suggestCharts:', error);\n",
              "      }\n",
              "      quickchartButtonEl.classList.remove('colab-df-spinner');\n",
              "      quickchartButtonEl.classList.add('colab-df-quickchart-complete');\n",
              "    }\n",
              "    (() => {\n",
              "      let quickchartButtonEl =\n",
              "        document.querySelector('#df-b8a90d76-8222-406e-82ab-53545ca2d93a button');\n",
              "      quickchartButtonEl.style.display =\n",
              "        google.colab.kernel.accessAllowed ? 'block' : 'none';\n",
              "    })();\n",
              "  </script>\n",
              "</div>\n",
              "    </div>\n",
              "  </div>\n"
            ]
          },
          "metadata": {},
          "execution_count": 10
        }
      ]
    },
    {
      "cell_type": "code",
      "source": [
        "# test_data = test_data[['transliterated_text']]\n",
        "test_data.columns"
      ],
      "metadata": {
        "id": "GO3w3Ehufpun",
        "outputId": "53a9562c-c45c-41d7-9884-1535217a7a1f",
        "execution": {
          "iopub.status.busy": "2023-11-24T13:57:43.210695Z",
          "iopub.execute_input": "2023-11-24T13:57:43.211061Z",
          "iopub.status.idle": "2023-11-24T13:57:43.221783Z",
          "shell.execute_reply.started": "2023-11-24T13:57:43.211034Z",
          "shell.execute_reply": "2023-11-24T13:57:43.220831Z"
        },
        "trusted": true,
        "colab": {
          "base_uri": "https://localhost:8080/"
        }
      },
      "execution_count": null,
      "outputs": [
        {
          "output_type": "execute_result",
          "data": {
            "text/plain": [
              "Index(['Unnamed: 0', 'text', 'cleaned', 'transliterated_text'], dtype='object')"
            ]
          },
          "metadata": {},
          "execution_count": 11
        }
      ]
    },
    {
      "cell_type": "code",
      "source": [
        "train_data['label'].value_counts()"
      ],
      "metadata": {
        "id": "xHskgK-1gBU-",
        "outputId": "e44b8a5d-8636-44ed-e99a-c6ff3b0d677b",
        "execution": {
          "iopub.status.busy": "2023-11-24T13:57:43.222755Z",
          "iopub.execute_input": "2023-11-24T13:57:43.223055Z",
          "iopub.status.idle": "2023-11-24T13:57:43.237454Z",
          "shell.execute_reply.started": "2023-11-24T13:57:43.223023Z",
          "shell.execute_reply": "2023-11-24T13:57:43.236707Z"
        },
        "trusted": true,
        "colab": {
          "base_uri": "https://localhost:8080/"
        }
      },
      "execution_count": null,
      "outputs": [
        {
          "output_type": "execute_result",
          "data": {
            "text/plain": [
              "original    1658\n",
              "Fake        1599\n",
              "Name: label, dtype: int64"
            ]
          },
          "metadata": {},
          "execution_count": 12
        }
      ]
    },
    {
      "cell_type": "code",
      "source": [
        "train_data.shape"
      ],
      "metadata": {
        "id": "FOSwwYmD3PE2",
        "outputId": "e875caa2-e40e-45ad-b11e-7d64b5a68ea5",
        "execution": {
          "iopub.status.busy": "2023-11-24T13:57:43.238387Z",
          "iopub.execute_input": "2023-11-24T13:57:43.238615Z",
          "iopub.status.idle": "2023-11-24T13:57:43.249328Z",
          "shell.execute_reply.started": "2023-11-24T13:57:43.238594Z",
          "shell.execute_reply": "2023-11-24T13:57:43.248517Z"
        },
        "trusted": true,
        "colab": {
          "base_uri": "https://localhost:8080/"
        }
      },
      "execution_count": null,
      "outputs": [
        {
          "output_type": "execute_result",
          "data": {
            "text/plain": [
              "(3257, 2)"
            ]
          },
          "metadata": {},
          "execution_count": 13
        }
      ]
    },
    {
      "cell_type": "code",
      "source": [
        "valid_data['label'].value_counts()"
      ],
      "metadata": {
        "id": "IVFW7xvdgJjn",
        "outputId": "fe57a27a-f4a0-4292-fd87-fd77b3e18f77",
        "execution": {
          "iopub.status.busy": "2023-11-24T13:57:43.250276Z",
          "iopub.execute_input": "2023-11-24T13:57:43.250523Z",
          "iopub.status.idle": "2023-11-24T13:57:43.267141Z",
          "shell.execute_reply.started": "2023-11-24T13:57:43.250500Z",
          "shell.execute_reply": "2023-11-24T13:57:43.266230Z"
        },
        "trusted": true,
        "colab": {
          "base_uri": "https://localhost:8080/"
        }
      },
      "execution_count": null,
      "outputs": [
        {
          "output_type": "execute_result",
          "data": {
            "text/plain": [
              "original    409\n",
              "Fake        406\n",
              "Name: label, dtype: int64"
            ]
          },
          "metadata": {},
          "execution_count": 14
        }
      ]
    },
    {
      "cell_type": "code",
      "source": [
        "train_data['enc_label'] = train_data['label'].replace({'original':0, 'Fake':1\n",
        "                                                       })\n",
        "valid_data['enc_label'] = valid_data['label'].replace({'original':0, 'Fake':1\n",
        "                                                       })\n",
        "\n",
        "train_data.head()"
      ],
      "metadata": {
        "id": "z7d7Ank9gPXO",
        "outputId": "1cecc98d-4d09-4cc3-d800-8237b033f901",
        "execution": {
          "iopub.status.busy": "2023-11-24T13:57:43.268262Z",
          "iopub.execute_input": "2023-11-24T13:57:43.268581Z",
          "iopub.status.idle": "2023-11-24T13:57:43.287233Z",
          "shell.execute_reply.started": "2023-11-24T13:57:43.268554Z",
          "shell.execute_reply": "2023-11-24T13:57:43.286404Z"
        },
        "trusted": true,
        "colab": {
          "base_uri": "https://localhost:8080/",
          "height": 206
        }
      },
      "execution_count": null,
      "outputs": [
        {
          "output_type": "execute_result",
          "data": {
            "text/plain": [
              "                                 transliterated_text     label  enc_label\n",
              "0                  നല്ല അവതരണം. സത്യം പുറത്തു വരട്ടെ      Fake          1\n",
              "1                                          മാഷ അല്ലാ      Fake          1\n",
              "2  അന്വേഷണം കഴിയുമ്പോൾ,. സി. അ. അ. യ്ക്ക് എതിരായ ...      Fake          1\n",
              "3    ഇല്ലതെന്ത അവരു പുറത്ത് വിടയിട്ടല്ലണ്ട് വേറെന്ത്      Fake          1\n",
              "4  ബറാന പക്ഷത്തിന് മറ്റൊരു നിയമം.നല്ല മൊയന്ത് മന്...  original          0"
            ],
            "text/html": [
              "\n",
              "  <div id=\"df-8401b69b-e7da-40f6-b8c5-61bffa8af206\" class=\"colab-df-container\">\n",
              "    <div>\n",
              "<style scoped>\n",
              "    .dataframe tbody tr th:only-of-type {\n",
              "        vertical-align: middle;\n",
              "    }\n",
              "\n",
              "    .dataframe tbody tr th {\n",
              "        vertical-align: top;\n",
              "    }\n",
              "\n",
              "    .dataframe thead th {\n",
              "        text-align: right;\n",
              "    }\n",
              "</style>\n",
              "<table border=\"1\" class=\"dataframe\">\n",
              "  <thead>\n",
              "    <tr style=\"text-align: right;\">\n",
              "      <th></th>\n",
              "      <th>transliterated_text</th>\n",
              "      <th>label</th>\n",
              "      <th>enc_label</th>\n",
              "    </tr>\n",
              "  </thead>\n",
              "  <tbody>\n",
              "    <tr>\n",
              "      <th>0</th>\n",
              "      <td>നല്ല അവതരണം. സത്യം പുറത്തു വരട്ടെ</td>\n",
              "      <td>Fake</td>\n",
              "      <td>1</td>\n",
              "    </tr>\n",
              "    <tr>\n",
              "      <th>1</th>\n",
              "      <td>മാഷ അല്ലാ</td>\n",
              "      <td>Fake</td>\n",
              "      <td>1</td>\n",
              "    </tr>\n",
              "    <tr>\n",
              "      <th>2</th>\n",
              "      <td>അന്വേഷണം കഴിയുമ്പോൾ,. സി. അ. അ. യ്ക്ക് എതിരായ ...</td>\n",
              "      <td>Fake</td>\n",
              "      <td>1</td>\n",
              "    </tr>\n",
              "    <tr>\n",
              "      <th>3</th>\n",
              "      <td>ഇല്ലതെന്ത അവരു പുറത്ത് വിടയിട്ടല്ലണ്ട് വേറെന്ത്</td>\n",
              "      <td>Fake</td>\n",
              "      <td>1</td>\n",
              "    </tr>\n",
              "    <tr>\n",
              "      <th>4</th>\n",
              "      <td>ബറാന പക്ഷത്തിന് മറ്റൊരു നിയമം.നല്ല മൊയന്ത് മന്...</td>\n",
              "      <td>original</td>\n",
              "      <td>0</td>\n",
              "    </tr>\n",
              "  </tbody>\n",
              "</table>\n",
              "</div>\n",
              "    <div class=\"colab-df-buttons\">\n",
              "\n",
              "  <div class=\"colab-df-container\">\n",
              "    <button class=\"colab-df-convert\" onclick=\"convertToInteractive('df-8401b69b-e7da-40f6-b8c5-61bffa8af206')\"\n",
              "            title=\"Convert this dataframe to an interactive table.\"\n",
              "            style=\"display:none;\">\n",
              "\n",
              "  <svg xmlns=\"http://www.w3.org/2000/svg\" height=\"24px\" viewBox=\"0 -960 960 960\">\n",
              "    <path d=\"M120-120v-720h720v720H120Zm60-500h600v-160H180v160Zm220 220h160v-160H400v160Zm0 220h160v-160H400v160ZM180-400h160v-160H180v160Zm440 0h160v-160H620v160ZM180-180h160v-160H180v160Zm440 0h160v-160H620v160Z\"/>\n",
              "  </svg>\n",
              "    </button>\n",
              "\n",
              "  <style>\n",
              "    .colab-df-container {\n",
              "      display:flex;\n",
              "      gap: 12px;\n",
              "    }\n",
              "\n",
              "    .colab-df-convert {\n",
              "      background-color: #E8F0FE;\n",
              "      border: none;\n",
              "      border-radius: 50%;\n",
              "      cursor: pointer;\n",
              "      display: none;\n",
              "      fill: #1967D2;\n",
              "      height: 32px;\n",
              "      padding: 0 0 0 0;\n",
              "      width: 32px;\n",
              "    }\n",
              "\n",
              "    .colab-df-convert:hover {\n",
              "      background-color: #E2EBFA;\n",
              "      box-shadow: 0px 1px 2px rgba(60, 64, 67, 0.3), 0px 1px 3px 1px rgba(60, 64, 67, 0.15);\n",
              "      fill: #174EA6;\n",
              "    }\n",
              "\n",
              "    .colab-df-buttons div {\n",
              "      margin-bottom: 4px;\n",
              "    }\n",
              "\n",
              "    [theme=dark] .colab-df-convert {\n",
              "      background-color: #3B4455;\n",
              "      fill: #D2E3FC;\n",
              "    }\n",
              "\n",
              "    [theme=dark] .colab-df-convert:hover {\n",
              "      background-color: #434B5C;\n",
              "      box-shadow: 0px 1px 3px 1px rgba(0, 0, 0, 0.15);\n",
              "      filter: drop-shadow(0px 1px 2px rgba(0, 0, 0, 0.3));\n",
              "      fill: #FFFFFF;\n",
              "    }\n",
              "  </style>\n",
              "\n",
              "    <script>\n",
              "      const buttonEl =\n",
              "        document.querySelector('#df-8401b69b-e7da-40f6-b8c5-61bffa8af206 button.colab-df-convert');\n",
              "      buttonEl.style.display =\n",
              "        google.colab.kernel.accessAllowed ? 'block' : 'none';\n",
              "\n",
              "      async function convertToInteractive(key) {\n",
              "        const element = document.querySelector('#df-8401b69b-e7da-40f6-b8c5-61bffa8af206');\n",
              "        const dataTable =\n",
              "          await google.colab.kernel.invokeFunction('convertToInteractive',\n",
              "                                                    [key], {});\n",
              "        if (!dataTable) return;\n",
              "\n",
              "        const docLinkHtml = 'Like what you see? Visit the ' +\n",
              "          '<a target=\"_blank\" href=https://colab.research.google.com/notebooks/data_table.ipynb>data table notebook</a>'\n",
              "          + ' to learn more about interactive tables.';\n",
              "        element.innerHTML = '';\n",
              "        dataTable['output_type'] = 'display_data';\n",
              "        await google.colab.output.renderOutput(dataTable, element);\n",
              "        const docLink = document.createElement('div');\n",
              "        docLink.innerHTML = docLinkHtml;\n",
              "        element.appendChild(docLink);\n",
              "      }\n",
              "    </script>\n",
              "  </div>\n",
              "\n",
              "\n",
              "<div id=\"df-22cef362-92c3-44f7-a11a-b0afe69cff08\">\n",
              "  <button class=\"colab-df-quickchart\" onclick=\"quickchart('df-22cef362-92c3-44f7-a11a-b0afe69cff08')\"\n",
              "            title=\"Suggest charts\"\n",
              "            style=\"display:none;\">\n",
              "\n",
              "<svg xmlns=\"http://www.w3.org/2000/svg\" height=\"24px\"viewBox=\"0 0 24 24\"\n",
              "     width=\"24px\">\n",
              "    <g>\n",
              "        <path d=\"M19 3H5c-1.1 0-2 .9-2 2v14c0 1.1.9 2 2 2h14c1.1 0 2-.9 2-2V5c0-1.1-.9-2-2-2zM9 17H7v-7h2v7zm4 0h-2V7h2v10zm4 0h-2v-4h2v4z\"/>\n",
              "    </g>\n",
              "</svg>\n",
              "  </button>\n",
              "\n",
              "<style>\n",
              "  .colab-df-quickchart {\n",
              "      --bg-color: #E8F0FE;\n",
              "      --fill-color: #1967D2;\n",
              "      --hover-bg-color: #E2EBFA;\n",
              "      --hover-fill-color: #174EA6;\n",
              "      --disabled-fill-color: #AAA;\n",
              "      --disabled-bg-color: #DDD;\n",
              "  }\n",
              "\n",
              "  [theme=dark] .colab-df-quickchart {\n",
              "      --bg-color: #3B4455;\n",
              "      --fill-color: #D2E3FC;\n",
              "      --hover-bg-color: #434B5C;\n",
              "      --hover-fill-color: #FFFFFF;\n",
              "      --disabled-bg-color: #3B4455;\n",
              "      --disabled-fill-color: #666;\n",
              "  }\n",
              "\n",
              "  .colab-df-quickchart {\n",
              "    background-color: var(--bg-color);\n",
              "    border: none;\n",
              "    border-radius: 50%;\n",
              "    cursor: pointer;\n",
              "    display: none;\n",
              "    fill: var(--fill-color);\n",
              "    height: 32px;\n",
              "    padding: 0;\n",
              "    width: 32px;\n",
              "  }\n",
              "\n",
              "  .colab-df-quickchart:hover {\n",
              "    background-color: var(--hover-bg-color);\n",
              "    box-shadow: 0 1px 2px rgba(60, 64, 67, 0.3), 0 1px 3px 1px rgba(60, 64, 67, 0.15);\n",
              "    fill: var(--button-hover-fill-color);\n",
              "  }\n",
              "\n",
              "  .colab-df-quickchart-complete:disabled,\n",
              "  .colab-df-quickchart-complete:disabled:hover {\n",
              "    background-color: var(--disabled-bg-color);\n",
              "    fill: var(--disabled-fill-color);\n",
              "    box-shadow: none;\n",
              "  }\n",
              "\n",
              "  .colab-df-spinner {\n",
              "    border: 2px solid var(--fill-color);\n",
              "    border-color: transparent;\n",
              "    border-bottom-color: var(--fill-color);\n",
              "    animation:\n",
              "      spin 1s steps(1) infinite;\n",
              "  }\n",
              "\n",
              "  @keyframes spin {\n",
              "    0% {\n",
              "      border-color: transparent;\n",
              "      border-bottom-color: var(--fill-color);\n",
              "      border-left-color: var(--fill-color);\n",
              "    }\n",
              "    20% {\n",
              "      border-color: transparent;\n",
              "      border-left-color: var(--fill-color);\n",
              "      border-top-color: var(--fill-color);\n",
              "    }\n",
              "    30% {\n",
              "      border-color: transparent;\n",
              "      border-left-color: var(--fill-color);\n",
              "      border-top-color: var(--fill-color);\n",
              "      border-right-color: var(--fill-color);\n",
              "    }\n",
              "    40% {\n",
              "      border-color: transparent;\n",
              "      border-right-color: var(--fill-color);\n",
              "      border-top-color: var(--fill-color);\n",
              "    }\n",
              "    60% {\n",
              "      border-color: transparent;\n",
              "      border-right-color: var(--fill-color);\n",
              "    }\n",
              "    80% {\n",
              "      border-color: transparent;\n",
              "      border-right-color: var(--fill-color);\n",
              "      border-bottom-color: var(--fill-color);\n",
              "    }\n",
              "    90% {\n",
              "      border-color: transparent;\n",
              "      border-bottom-color: var(--fill-color);\n",
              "    }\n",
              "  }\n",
              "</style>\n",
              "\n",
              "  <script>\n",
              "    async function quickchart(key) {\n",
              "      const quickchartButtonEl =\n",
              "        document.querySelector('#' + key + ' button');\n",
              "      quickchartButtonEl.disabled = true;  // To prevent multiple clicks.\n",
              "      quickchartButtonEl.classList.add('colab-df-spinner');\n",
              "      try {\n",
              "        const charts = await google.colab.kernel.invokeFunction(\n",
              "            'suggestCharts', [key], {});\n",
              "      } catch (error) {\n",
              "        console.error('Error during call to suggestCharts:', error);\n",
              "      }\n",
              "      quickchartButtonEl.classList.remove('colab-df-spinner');\n",
              "      quickchartButtonEl.classList.add('colab-df-quickchart-complete');\n",
              "    }\n",
              "    (() => {\n",
              "      let quickchartButtonEl =\n",
              "        document.querySelector('#df-22cef362-92c3-44f7-a11a-b0afe69cff08 button');\n",
              "      quickchartButtonEl.style.display =\n",
              "        google.colab.kernel.accessAllowed ? 'block' : 'none';\n",
              "    })();\n",
              "  </script>\n",
              "</div>\n",
              "    </div>\n",
              "  </div>\n"
            ]
          },
          "metadata": {},
          "execution_count": 15
        }
      ]
    },
    {
      "cell_type": "code",
      "source": [
        "train_data['enc_label'].value_counts()"
      ],
      "metadata": {
        "id": "W7he0z3zgUUg",
        "outputId": "16278c71-e66b-4e7e-8f0f-456132806bc5",
        "execution": {
          "iopub.status.busy": "2023-11-24T13:57:43.288152Z",
          "iopub.execute_input": "2023-11-24T13:57:43.288404Z",
          "iopub.status.idle": "2023-11-24T13:57:43.295924Z",
          "shell.execute_reply.started": "2023-11-24T13:57:43.288381Z",
          "shell.execute_reply": "2023-11-24T13:57:43.295026Z"
        },
        "trusted": true,
        "colab": {
          "base_uri": "https://localhost:8080/"
        }
      },
      "execution_count": null,
      "outputs": [
        {
          "output_type": "execute_result",
          "data": {
            "text/plain": [
              "0    1658\n",
              "1    1599\n",
              "Name: enc_label, dtype: int64"
            ]
          },
          "metadata": {},
          "execution_count": 16
        }
      ]
    },
    {
      "cell_type": "code",
      "source": [
        "valid_data['enc_label'].value_counts()"
      ],
      "metadata": {
        "id": "P9WbKKWogXxm",
        "outputId": "a564376c-75ae-4379-ea2e-ab4cc07667c3",
        "execution": {
          "iopub.status.busy": "2023-11-24T13:57:43.297080Z",
          "iopub.execute_input": "2023-11-24T13:57:43.297397Z",
          "iopub.status.idle": "2023-11-24T13:57:43.307662Z",
          "shell.execute_reply.started": "2023-11-24T13:57:43.297366Z",
          "shell.execute_reply": "2023-11-24T13:57:43.306787Z"
        },
        "trusted": true,
        "colab": {
          "base_uri": "https://localhost:8080/"
        }
      },
      "execution_count": null,
      "outputs": [
        {
          "output_type": "execute_result",
          "data": {
            "text/plain": [
              "0    409\n",
              "1    406\n",
              "Name: enc_label, dtype: int64"
            ]
          },
          "metadata": {},
          "execution_count": 17
        }
      ]
    },
    {
      "cell_type": "code",
      "source": [
        "print(\"Size of the training data ==> \", train_data.shape)\n",
        "print(\"Size of the validation data ==>\", valid_data.shape)\n",
        "print(\"Size of the Test data ==>\", test_data.shape)"
      ],
      "metadata": {
        "id": "8R0L0MAfgb1O",
        "outputId": "a9d5ab74-eb85-4f11-d8c8-fe3075a574b5",
        "execution": {
          "iopub.status.busy": "2023-11-24T13:57:43.308717Z",
          "iopub.execute_input": "2023-11-24T13:57:43.309011Z",
          "iopub.status.idle": "2023-11-24T13:57:43.319373Z",
          "shell.execute_reply.started": "2023-11-24T13:57:43.308986Z",
          "shell.execute_reply": "2023-11-24T13:57:43.318444Z"
        },
        "trusted": true,
        "colab": {
          "base_uri": "https://localhost:8080/"
        }
      },
      "execution_count": null,
      "outputs": [
        {
          "output_type": "stream",
          "name": "stdout",
          "text": [
            "Size of the training data ==>  (3257, 3)\n",
            "Size of the validation data ==> (815, 6)\n",
            "Size of the Test data ==> (1019, 4)\n"
          ]
        }
      ]
    },
    {
      "cell_type": "code",
      "source": [
        "import pandas as pd\n",
        "from sklearn.preprocessing import OneHotEncoder"
      ],
      "metadata": {
        "id": "jjZS161zghQe",
        "execution": {
          "iopub.status.busy": "2023-11-24T13:57:43.320254Z",
          "iopub.execute_input": "2023-11-24T13:57:43.320501Z",
          "iopub.status.idle": "2023-11-24T13:57:43.329853Z",
          "shell.execute_reply.started": "2023-11-24T13:57:43.320478Z",
          "shell.execute_reply": "2023-11-24T13:57:43.329033Z"
        },
        "trusted": true
      },
      "execution_count": null,
      "outputs": []
    },
    {
      "cell_type": "code",
      "source": [
        "encoder=OneHotEncoder(sparse=False)\n",
        "encoded_labels = pd.DataFrame (encoder.fit_transform(train_data[['label']]))\n",
        "encoded_labels .columns = encoder.get_feature_names_out(['label'])\n",
        "train_data= pd.concat([train_data, encoded_labels ], axis=1)"
      ],
      "metadata": {
        "id": "faLDAHrugk4e",
        "execution": {
          "iopub.status.busy": "2023-11-24T13:57:43.330871Z",
          "iopub.execute_input": "2023-11-24T13:57:43.331165Z",
          "iopub.status.idle": "2023-11-24T13:57:43.346674Z",
          "shell.execute_reply.started": "2023-11-24T13:57:43.331142Z",
          "shell.execute_reply": "2023-11-24T13:57:43.345853Z"
        },
        "trusted": true
      },
      "execution_count": null,
      "outputs": []
    },
    {
      "cell_type": "code",
      "source": [
        "train_data.columns"
      ],
      "metadata": {
        "id": "ytl2rjlbgooW",
        "outputId": "59cbb344-349d-4893-d250-19cd7ea89ab7",
        "execution": {
          "iopub.status.busy": "2023-11-24T13:57:43.348172Z",
          "iopub.execute_input": "2023-11-24T13:57:43.348432Z",
          "iopub.status.idle": "2023-11-24T13:57:43.358641Z",
          "shell.execute_reply.started": "2023-11-24T13:57:43.348409Z",
          "shell.execute_reply": "2023-11-24T13:57:43.357838Z"
        },
        "trusted": true,
        "colab": {
          "base_uri": "https://localhost:8080/"
        }
      },
      "execution_count": null,
      "outputs": [
        {
          "output_type": "execute_result",
          "data": {
            "text/plain": [
              "Index(['transliterated_text', 'label', 'enc_label', 'label_Fake',\n",
              "       'label_original'],\n",
              "      dtype='object')"
            ]
          },
          "metadata": {},
          "execution_count": 21
        }
      ]
    },
    {
      "cell_type": "code",
      "source": [
        "train_data = train_data.rename(columns={'label_original':'original','label_Fake':'Fake'\n",
        "                                        })\n",
        "train_data.sample(10)"
      ],
      "metadata": {
        "id": "dw0wFkL4g1U2",
        "outputId": "f162e720-c207-45c4-fbb3-5d876dffdde6",
        "execution": {
          "iopub.status.busy": "2023-11-24T13:57:43.359585Z",
          "iopub.execute_input": "2023-11-24T13:57:43.361129Z",
          "iopub.status.idle": "2023-11-24T13:57:43.379374Z",
          "shell.execute_reply.started": "2023-11-24T13:57:43.361095Z",
          "shell.execute_reply": "2023-11-24T13:57:43.378518Z"
        },
        "trusted": true,
        "colab": {
          "base_uri": "https://localhost:8080/",
          "height": 363
        }
      },
      "execution_count": null,
      "outputs": [
        {
          "output_type": "execute_result",
          "data": {
            "text/plain": [
              "                                    transliterated_text     label  enc_label  \\\n",
              "2829         എന്തുവാ സഖാവേ അമ്മായിക്കും അടുപ്പിലും ആവാം  original          0   \n",
              "134   ഇവന്മാർ ഒരികളും സത്യം പറയില്ല, ലൈവ് റെക്കോർഡ് ...      Fake          1   \n",
              "2299  ഇതിലും വെല്യേ ഒരു ട്രോൾ ഉണ്ടോ  അവതാരകന് എത്ര ക...  original          0   \n",
              "1610                                       പരനറികൾ.....  original          0   \n",
              "990                                          കഷ്ടം.....  original          0   \n",
              "1173      അപ്പോൾ ചിന ഉണ്ടാക്കി വിട്ട വൈറസ് അനോ ഇഇ കൊറോണ      Fake          1   \n",
              "1206                                       അഹ് പോയിട്ടോ      Fake          1   \n",
              "1869            ഇത് വെറും സാമ്പിള് വെടി കെട്ടു മാത്രം .      Fake          1   \n",
              "2986  പാകിസ്ഥാൻ അൽസോ ക്ലോസ് ഫ്രണ്ട്സ് ഗ്രൂപ്പ് അഫക്ട...      Fake          1   \n",
              "2668  സിപിഎം ന്റെ കൂടെ കൂടി വീണക്കും ബുന്ദി പോയി എന്...  original          0   \n",
              "\n",
              "      Fake  original  \n",
              "2829   0.0       1.0  \n",
              "134    1.0       0.0  \n",
              "2299   0.0       1.0  \n",
              "1610   0.0       1.0  \n",
              "990    0.0       1.0  \n",
              "1173   1.0       0.0  \n",
              "1206   1.0       0.0  \n",
              "1869   1.0       0.0  \n",
              "2986   1.0       0.0  \n",
              "2668   0.0       1.0  "
            ],
            "text/html": [
              "\n",
              "  <div id=\"df-72e7a0f2-e368-4825-ada5-db5084e0f64c\" class=\"colab-df-container\">\n",
              "    <div>\n",
              "<style scoped>\n",
              "    .dataframe tbody tr th:only-of-type {\n",
              "        vertical-align: middle;\n",
              "    }\n",
              "\n",
              "    .dataframe tbody tr th {\n",
              "        vertical-align: top;\n",
              "    }\n",
              "\n",
              "    .dataframe thead th {\n",
              "        text-align: right;\n",
              "    }\n",
              "</style>\n",
              "<table border=\"1\" class=\"dataframe\">\n",
              "  <thead>\n",
              "    <tr style=\"text-align: right;\">\n",
              "      <th></th>\n",
              "      <th>transliterated_text</th>\n",
              "      <th>label</th>\n",
              "      <th>enc_label</th>\n",
              "      <th>Fake</th>\n",
              "      <th>original</th>\n",
              "    </tr>\n",
              "  </thead>\n",
              "  <tbody>\n",
              "    <tr>\n",
              "      <th>2829</th>\n",
              "      <td>എന്തുവാ സഖാവേ അമ്മായിക്കും അടുപ്പിലും ആവാം</td>\n",
              "      <td>original</td>\n",
              "      <td>0</td>\n",
              "      <td>0.0</td>\n",
              "      <td>1.0</td>\n",
              "    </tr>\n",
              "    <tr>\n",
              "      <th>134</th>\n",
              "      <td>ഇവന്മാർ ഒരികളും സത്യം പറയില്ല, ലൈവ് റെക്കോർഡ് ...</td>\n",
              "      <td>Fake</td>\n",
              "      <td>1</td>\n",
              "      <td>1.0</td>\n",
              "      <td>0.0</td>\n",
              "    </tr>\n",
              "    <tr>\n",
              "      <th>2299</th>\n",
              "      <td>ഇതിലും വെല്യേ ഒരു ട്രോൾ ഉണ്ടോ  അവതാരകന് എത്ര ക...</td>\n",
              "      <td>original</td>\n",
              "      <td>0</td>\n",
              "      <td>0.0</td>\n",
              "      <td>1.0</td>\n",
              "    </tr>\n",
              "    <tr>\n",
              "      <th>1610</th>\n",
              "      <td>പരനറികൾ.....</td>\n",
              "      <td>original</td>\n",
              "      <td>0</td>\n",
              "      <td>0.0</td>\n",
              "      <td>1.0</td>\n",
              "    </tr>\n",
              "    <tr>\n",
              "      <th>990</th>\n",
              "      <td>കഷ്ടം.....</td>\n",
              "      <td>original</td>\n",
              "      <td>0</td>\n",
              "      <td>0.0</td>\n",
              "      <td>1.0</td>\n",
              "    </tr>\n",
              "    <tr>\n",
              "      <th>1173</th>\n",
              "      <td>അപ്പോൾ ചിന ഉണ്ടാക്കി വിട്ട വൈറസ് അനോ ഇഇ കൊറോണ</td>\n",
              "      <td>Fake</td>\n",
              "      <td>1</td>\n",
              "      <td>1.0</td>\n",
              "      <td>0.0</td>\n",
              "    </tr>\n",
              "    <tr>\n",
              "      <th>1206</th>\n",
              "      <td>അഹ് പോയിട്ടോ</td>\n",
              "      <td>Fake</td>\n",
              "      <td>1</td>\n",
              "      <td>1.0</td>\n",
              "      <td>0.0</td>\n",
              "    </tr>\n",
              "    <tr>\n",
              "      <th>1869</th>\n",
              "      <td>ഇത് വെറും സാമ്പിള് വെടി കെട്ടു മാത്രം .</td>\n",
              "      <td>Fake</td>\n",
              "      <td>1</td>\n",
              "      <td>1.0</td>\n",
              "      <td>0.0</td>\n",
              "    </tr>\n",
              "    <tr>\n",
              "      <th>2986</th>\n",
              "      <td>പാകിസ്ഥാൻ അൽസോ ക്ലോസ് ഫ്രണ്ട്സ് ഗ്രൂപ്പ് അഫക്ട...</td>\n",
              "      <td>Fake</td>\n",
              "      <td>1</td>\n",
              "      <td>1.0</td>\n",
              "      <td>0.0</td>\n",
              "    </tr>\n",
              "    <tr>\n",
              "      <th>2668</th>\n",
              "      <td>സിപിഎം ന്റെ കൂടെ കൂടി വീണക്കും ബുന്ദി പോയി എന്...</td>\n",
              "      <td>original</td>\n",
              "      <td>0</td>\n",
              "      <td>0.0</td>\n",
              "      <td>1.0</td>\n",
              "    </tr>\n",
              "  </tbody>\n",
              "</table>\n",
              "</div>\n",
              "    <div class=\"colab-df-buttons\">\n",
              "\n",
              "  <div class=\"colab-df-container\">\n",
              "    <button class=\"colab-df-convert\" onclick=\"convertToInteractive('df-72e7a0f2-e368-4825-ada5-db5084e0f64c')\"\n",
              "            title=\"Convert this dataframe to an interactive table.\"\n",
              "            style=\"display:none;\">\n",
              "\n",
              "  <svg xmlns=\"http://www.w3.org/2000/svg\" height=\"24px\" viewBox=\"0 -960 960 960\">\n",
              "    <path d=\"M120-120v-720h720v720H120Zm60-500h600v-160H180v160Zm220 220h160v-160H400v160Zm0 220h160v-160H400v160ZM180-400h160v-160H180v160Zm440 0h160v-160H620v160ZM180-180h160v-160H180v160Zm440 0h160v-160H620v160Z\"/>\n",
              "  </svg>\n",
              "    </button>\n",
              "\n",
              "  <style>\n",
              "    .colab-df-container {\n",
              "      display:flex;\n",
              "      gap: 12px;\n",
              "    }\n",
              "\n",
              "    .colab-df-convert {\n",
              "      background-color: #E8F0FE;\n",
              "      border: none;\n",
              "      border-radius: 50%;\n",
              "      cursor: pointer;\n",
              "      display: none;\n",
              "      fill: #1967D2;\n",
              "      height: 32px;\n",
              "      padding: 0 0 0 0;\n",
              "      width: 32px;\n",
              "    }\n",
              "\n",
              "    .colab-df-convert:hover {\n",
              "      background-color: #E2EBFA;\n",
              "      box-shadow: 0px 1px 2px rgba(60, 64, 67, 0.3), 0px 1px 3px 1px rgba(60, 64, 67, 0.15);\n",
              "      fill: #174EA6;\n",
              "    }\n",
              "\n",
              "    .colab-df-buttons div {\n",
              "      margin-bottom: 4px;\n",
              "    }\n",
              "\n",
              "    [theme=dark] .colab-df-convert {\n",
              "      background-color: #3B4455;\n",
              "      fill: #D2E3FC;\n",
              "    }\n",
              "\n",
              "    [theme=dark] .colab-df-convert:hover {\n",
              "      background-color: #434B5C;\n",
              "      box-shadow: 0px 1px 3px 1px rgba(0, 0, 0, 0.15);\n",
              "      filter: drop-shadow(0px 1px 2px rgba(0, 0, 0, 0.3));\n",
              "      fill: #FFFFFF;\n",
              "    }\n",
              "  </style>\n",
              "\n",
              "    <script>\n",
              "      const buttonEl =\n",
              "        document.querySelector('#df-72e7a0f2-e368-4825-ada5-db5084e0f64c button.colab-df-convert');\n",
              "      buttonEl.style.display =\n",
              "        google.colab.kernel.accessAllowed ? 'block' : 'none';\n",
              "\n",
              "      async function convertToInteractive(key) {\n",
              "        const element = document.querySelector('#df-72e7a0f2-e368-4825-ada5-db5084e0f64c');\n",
              "        const dataTable =\n",
              "          await google.colab.kernel.invokeFunction('convertToInteractive',\n",
              "                                                    [key], {});\n",
              "        if (!dataTable) return;\n",
              "\n",
              "        const docLinkHtml = 'Like what you see? Visit the ' +\n",
              "          '<a target=\"_blank\" href=https://colab.research.google.com/notebooks/data_table.ipynb>data table notebook</a>'\n",
              "          + ' to learn more about interactive tables.';\n",
              "        element.innerHTML = '';\n",
              "        dataTable['output_type'] = 'display_data';\n",
              "        await google.colab.output.renderOutput(dataTable, element);\n",
              "        const docLink = document.createElement('div');\n",
              "        docLink.innerHTML = docLinkHtml;\n",
              "        element.appendChild(docLink);\n",
              "      }\n",
              "    </script>\n",
              "  </div>\n",
              "\n",
              "\n",
              "<div id=\"df-0d6ab84f-6a63-442e-9186-be2d07552a16\">\n",
              "  <button class=\"colab-df-quickchart\" onclick=\"quickchart('df-0d6ab84f-6a63-442e-9186-be2d07552a16')\"\n",
              "            title=\"Suggest charts\"\n",
              "            style=\"display:none;\">\n",
              "\n",
              "<svg xmlns=\"http://www.w3.org/2000/svg\" height=\"24px\"viewBox=\"0 0 24 24\"\n",
              "     width=\"24px\">\n",
              "    <g>\n",
              "        <path d=\"M19 3H5c-1.1 0-2 .9-2 2v14c0 1.1.9 2 2 2h14c1.1 0 2-.9 2-2V5c0-1.1-.9-2-2-2zM9 17H7v-7h2v7zm4 0h-2V7h2v10zm4 0h-2v-4h2v4z\"/>\n",
              "    </g>\n",
              "</svg>\n",
              "  </button>\n",
              "\n",
              "<style>\n",
              "  .colab-df-quickchart {\n",
              "      --bg-color: #E8F0FE;\n",
              "      --fill-color: #1967D2;\n",
              "      --hover-bg-color: #E2EBFA;\n",
              "      --hover-fill-color: #174EA6;\n",
              "      --disabled-fill-color: #AAA;\n",
              "      --disabled-bg-color: #DDD;\n",
              "  }\n",
              "\n",
              "  [theme=dark] .colab-df-quickchart {\n",
              "      --bg-color: #3B4455;\n",
              "      --fill-color: #D2E3FC;\n",
              "      --hover-bg-color: #434B5C;\n",
              "      --hover-fill-color: #FFFFFF;\n",
              "      --disabled-bg-color: #3B4455;\n",
              "      --disabled-fill-color: #666;\n",
              "  }\n",
              "\n",
              "  .colab-df-quickchart {\n",
              "    background-color: var(--bg-color);\n",
              "    border: none;\n",
              "    border-radius: 50%;\n",
              "    cursor: pointer;\n",
              "    display: none;\n",
              "    fill: var(--fill-color);\n",
              "    height: 32px;\n",
              "    padding: 0;\n",
              "    width: 32px;\n",
              "  }\n",
              "\n",
              "  .colab-df-quickchart:hover {\n",
              "    background-color: var(--hover-bg-color);\n",
              "    box-shadow: 0 1px 2px rgba(60, 64, 67, 0.3), 0 1px 3px 1px rgba(60, 64, 67, 0.15);\n",
              "    fill: var(--button-hover-fill-color);\n",
              "  }\n",
              "\n",
              "  .colab-df-quickchart-complete:disabled,\n",
              "  .colab-df-quickchart-complete:disabled:hover {\n",
              "    background-color: var(--disabled-bg-color);\n",
              "    fill: var(--disabled-fill-color);\n",
              "    box-shadow: none;\n",
              "  }\n",
              "\n",
              "  .colab-df-spinner {\n",
              "    border: 2px solid var(--fill-color);\n",
              "    border-color: transparent;\n",
              "    border-bottom-color: var(--fill-color);\n",
              "    animation:\n",
              "      spin 1s steps(1) infinite;\n",
              "  }\n",
              "\n",
              "  @keyframes spin {\n",
              "    0% {\n",
              "      border-color: transparent;\n",
              "      border-bottom-color: var(--fill-color);\n",
              "      border-left-color: var(--fill-color);\n",
              "    }\n",
              "    20% {\n",
              "      border-color: transparent;\n",
              "      border-left-color: var(--fill-color);\n",
              "      border-top-color: var(--fill-color);\n",
              "    }\n",
              "    30% {\n",
              "      border-color: transparent;\n",
              "      border-left-color: var(--fill-color);\n",
              "      border-top-color: var(--fill-color);\n",
              "      border-right-color: var(--fill-color);\n",
              "    }\n",
              "    40% {\n",
              "      border-color: transparent;\n",
              "      border-right-color: var(--fill-color);\n",
              "      border-top-color: var(--fill-color);\n",
              "    }\n",
              "    60% {\n",
              "      border-color: transparent;\n",
              "      border-right-color: var(--fill-color);\n",
              "    }\n",
              "    80% {\n",
              "      border-color: transparent;\n",
              "      border-right-color: var(--fill-color);\n",
              "      border-bottom-color: var(--fill-color);\n",
              "    }\n",
              "    90% {\n",
              "      border-color: transparent;\n",
              "      border-bottom-color: var(--fill-color);\n",
              "    }\n",
              "  }\n",
              "</style>\n",
              "\n",
              "  <script>\n",
              "    async function quickchart(key) {\n",
              "      const quickchartButtonEl =\n",
              "        document.querySelector('#' + key + ' button');\n",
              "      quickchartButtonEl.disabled = true;  // To prevent multiple clicks.\n",
              "      quickchartButtonEl.classList.add('colab-df-spinner');\n",
              "      try {\n",
              "        const charts = await google.colab.kernel.invokeFunction(\n",
              "            'suggestCharts', [key], {});\n",
              "      } catch (error) {\n",
              "        console.error('Error during call to suggestCharts:', error);\n",
              "      }\n",
              "      quickchartButtonEl.classList.remove('colab-df-spinner');\n",
              "      quickchartButtonEl.classList.add('colab-df-quickchart-complete');\n",
              "    }\n",
              "    (() => {\n",
              "      let quickchartButtonEl =\n",
              "        document.querySelector('#df-0d6ab84f-6a63-442e-9186-be2d07552a16 button');\n",
              "      quickchartButtonEl.style.display =\n",
              "        google.colab.kernel.accessAllowed ? 'block' : 'none';\n",
              "    })();\n",
              "  </script>\n",
              "</div>\n",
              "    </div>\n",
              "  </div>\n"
            ]
          },
          "metadata": {},
          "execution_count": 22
        }
      ]
    },
    {
      "cell_type": "code",
      "source": [
        "'''\n",
        "Text Cleaning\n",
        "\n",
        "'''\n",
        "def text_cleaning(row):\n",
        "  # to remove HTML tags\n",
        "  text = BeautifulSoup(row, 'html.parser').get_text()\n",
        "  print(text)\n",
        "  d = re.sub(r'(https|http)?:\\/\\/(\\w|\\.|\\/|\\?|\\=|\\&|\\%)*\\b', '', text, flags=re.MULTILINE) #This line is for removing url\n",
        "  post = d.replace('\\n', '')\n",
        "  post = post.replace('—', ' ')\n",
        "  # to remove accented characters\n",
        "  new_text = unicodedata.normalize('NFKD', post).encode('ascii', 'ignore').decode('utf-8', 'ignore')\n",
        "  # to remove special characters and numbers\n",
        "  # define the pattern to keep\n",
        "  #pat = r'[^a-zA-z0-9.,!?/:;\\\"\\'\\s]'\n",
        "  #text = re.sub(pat, '', new_text)\n",
        "  #to remove punctuation\n",
        "  text = ''.join([c for c in text if c not in string.punctuation])\n",
        "  # to remove special characters\n",
        "  pattern = r'^\\s*|\\s\\s*'\n",
        "  text = re.sub(pattern, ' ', text).strip()\n",
        "  # convert into lower case\n",
        "  # text = text.lower()\n",
        "  # Stopword Removing\n",
        "  tokenizer = ToktokTokenizer()\n",
        "  # convert sentence into token of words\n",
        "  tokens = tokenizer.tokenize(text)\n",
        "  tokens = [token.strip() for token in tokens]\n",
        "  text = re.sub(r\"[\\U0001F600-\\U0001F64F\\U0001F300-\\U0001F5FF\\U0001F680-\\U0001F6FF\\U0001F700-\\U0001F77F\\U0001F780-\\U0001F7FF\\U0001F800-\\U0001F8FF\\U0001F900-\\U0001F9FF\\U0001FA00-\\U0001FA6F\\U0001FA70-\\U0001FAFF\\U00002702-\\U000027B0\\U000024C2-\\U0001F251]+\", ' ', text)\n",
        "  print(\"---- DONE ----\")\n",
        "  return text\n"
      ],
      "metadata": {
        "id": "UcqEaLVJg-s4",
        "execution": {
          "iopub.status.busy": "2023-11-24T13:57:43.380292Z",
          "iopub.execute_input": "2023-11-24T13:57:43.380603Z",
          "iopub.status.idle": "2023-11-24T13:57:43.389191Z",
          "shell.execute_reply.started": "2023-11-24T13:57:43.380567Z",
          "shell.execute_reply": "2023-11-24T13:57:43.388283Z"
        },
        "trusted": true
      },
      "execution_count": null,
      "outputs": []
    },
    {
      "cell_type": "code",
      "source": [
        "punctuations = '''’'!()-[]{};:'\"\\,<>./?@#$%^&*_~�'''\n",
        "\n",
        "def remove_punctuation_url(d):\n",
        "    # d=d.lower()\n",
        "    d = re.sub(r'(https|http)?:\\/\\/(\\w|\\.|\\/|\\?|\\=|\\&|\\%)*\\b', '', d, flags=re.MULTILINE) #This line is for removing url\n",
        "    review = d.replace('\\n', '')\n",
        "    no_punct = \"\"\n",
        "    for char in review:\n",
        "      if char not in punctuations:\n",
        "         no_punct = no_punct + char\n",
        "    return no_punct\n",
        "\n",
        "def cleantext(string):\n",
        "    text = string.split()\n",
        "    text = \" \".join(text)\n",
        "    text = re.sub(r\"http(\\S)+\",' ',text)\n",
        "    text = re.sub(r\"www(\\S)+\",' ',text)\n",
        "    text = re.sub(r\"&\",' and ',text)\n",
        "    tx = text.replace('&amp',' ')\n",
        "    #text = re.sub(r\"[^0-9a-zA-Z]+\",' ',text)\n",
        "    # text = text.split()\n",
        "    # text = [w for w in text if not w in stops]\n",
        "    # text = \" \".join(text)\n",
        "    text = re.sub(r\"[\\U0001F600-\\U0001F64F\\U0001F300-\\U0001F5FF\\U0001F680-\\U0001F6FF\\U0001F700-\\U0001F77F\\U0001F780-\\U0001F7FF\\U0001F800-\\U0001F8FF\\U0001F900-\\U0001F9FF\\U0001FA00-\\U0001FA6F\\U0001FA70-\\U0001FAFF\\U00002702-\\U000027B0\\U000024C2-\\U0001F251]+\", ' ', text)\n",
        "\n",
        "    return text\n",
        "\n",
        "def clean(text):\n",
        "  if not isinstance(text, str):\n",
        "    return ''\n",
        "\n",
        "  print('Text: ', text)\n",
        "  text = remove_punctuation_url(text)\n",
        "  text = cleantext(text)\n",
        "  print('Output: ', text)\n",
        "  print(\" \")\n",
        "\n",
        "  if not isinstance(text, str):\n",
        "    return ''\n",
        "\n",
        "  return text"
      ],
      "metadata": {
        "id": "V4iadtBWi7oT",
        "execution": {
          "iopub.status.busy": "2023-11-24T13:57:43.390257Z",
          "iopub.execute_input": "2023-11-24T13:57:43.390523Z",
          "iopub.status.idle": "2023-11-24T13:57:43.404619Z",
          "shell.execute_reply.started": "2023-11-24T13:57:43.390500Z",
          "shell.execute_reply": "2023-11-24T13:57:43.403768Z"
        },
        "trusted": true
      },
      "execution_count": null,
      "outputs": []
    },
    {
      "cell_type": "code",
      "source": [
        "train_data.dropna(how='any', inplace=True)\n",
        "valid_data.dropna(how='any', inplace=True)"
      ],
      "metadata": {
        "id": "6Q58dhUvlBoy",
        "execution": {
          "iopub.status.busy": "2023-11-24T13:57:43.405730Z",
          "iopub.execute_input": "2023-11-24T13:57:43.406331Z",
          "iopub.status.idle": "2023-11-24T13:57:43.420428Z",
          "shell.execute_reply.started": "2023-11-24T13:57:43.406299Z",
          "shell.execute_reply": "2023-11-24T13:57:43.419740Z"
        },
        "trusted": true
      },
      "execution_count": null,
      "outputs": []
    },
    {
      "cell_type": "code",
      "source": [
        "#removing URLs and Punctuations\n",
        "#Removing punctuations\n",
        "train_data['cleaned'] = train_data['transliterated_text'].apply(clean)\n",
        "valid_data['cleaned'] = valid_data['transliterated_text'].apply(clean)\n",
        "test_data['cleaned'] = test_data['transliterated_text'].apply(clean)\n",
        "\n",
        "\n",
        "# ## Data samples after cleaning\n",
        "# print(\"Data samples after cleaning:\\n\")\n",
        "# for i in range(10):\n",
        "#   print(\"Original Data:===\\n\",train_data.text[i],\"\\nCleaned Data:===\\n\",train_data.cleaned[i],)"
      ],
      "metadata": {
        "id": "BxhpnvzLhCR3",
        "execution": {
          "iopub.status.busy": "2023-11-24T13:57:43.421647Z",
          "iopub.execute_input": "2023-11-24T13:57:43.422110Z",
          "iopub.status.idle": "2023-11-24T13:57:43.862772Z",
          "shell.execute_reply.started": "2023-11-24T13:57:43.422073Z",
          "shell.execute_reply": "2023-11-24T13:57:43.861850Z"
        },
        "trusted": true
      },
      "execution_count": null,
      "outputs": []
    },
    {
      "cell_type": "code",
      "source": [
        "train_data.columns"
      ],
      "metadata": {
        "id": "ERHVSfhahGWv",
        "outputId": "57a8c6ba-adbe-410d-8f73-38413f657e7c",
        "execution": {
          "iopub.status.busy": "2023-11-24T13:57:43.864201Z",
          "iopub.execute_input": "2023-11-24T13:57:43.864608Z",
          "iopub.status.idle": "2023-11-24T13:57:43.870748Z",
          "shell.execute_reply.started": "2023-11-24T13:57:43.864560Z",
          "shell.execute_reply": "2023-11-24T13:57:43.870013Z"
        },
        "trusted": true,
        "colab": {
          "base_uri": "https://localhost:8080/"
        }
      },
      "execution_count": null,
      "outputs": [
        {
          "output_type": "execute_result",
          "data": {
            "text/plain": [
              "Index(['transliterated_text', 'label', 'enc_label', 'Fake', 'original',\n",
              "       'cleaned'],\n",
              "      dtype='object')"
            ]
          },
          "metadata": {},
          "execution_count": 27
        }
      ]
    },
    {
      "cell_type": "code",
      "source": [
        "train_data.columns"
      ],
      "metadata": {
        "id": "4T1bRmSghJVu",
        "outputId": "759979a2-4445-41ea-e811-e0f0da6322e5",
        "execution": {
          "iopub.status.busy": "2023-11-24T13:57:43.878508Z",
          "iopub.execute_input": "2023-11-24T13:57:43.878872Z",
          "iopub.status.idle": "2023-11-24T13:57:43.885241Z",
          "shell.execute_reply.started": "2023-11-24T13:57:43.878840Z",
          "shell.execute_reply": "2023-11-24T13:57:43.884285Z"
        },
        "trusted": true,
        "colab": {
          "base_uri": "https://localhost:8080/"
        }
      },
      "execution_count": null,
      "outputs": [
        {
          "output_type": "execute_result",
          "data": {
            "text/plain": [
              "Index(['transliterated_text', 'label', 'enc_label', 'Fake', 'original',\n",
              "       'cleaned'],\n",
              "      dtype='object')"
            ]
          },
          "metadata": {},
          "execution_count": 28
        }
      ]
    },
    {
      "cell_type": "code",
      "source": [
        "lables= [  'original','Fake']\n",
        "\n",
        "# Count number of unique words in each set\n",
        "def dataset_statistics(dataset):\n",
        "  for l in lables:\n",
        "    subset = dataset[dataset[l] == 1.0]\n",
        "    word_list = [word.strip() for text in subset.cleaned for word in text.strip().split()]\n",
        "    print(f\"\\nClass Name:--> {l} \")\n",
        "    print(\"Number of Words:{}\".format(len(word_list)))\n",
        "    print(\"Number of Unique Words:{}\".format(len(np.unique(word_list))))\n",
        "    if word_list:\n",
        "      print(\"Maximum post length: {}\".format(max(dataset[dataset[l]==1.0].cleaned.apply(char_length))))\n",
        "      print(\"Average Words in texts: {}\".format(np.mean(dataset[dataset[l]==1.0].cleaned.apply(char_length))))\n",
        "    else:\n",
        "      print(\"No posts in this class.\")"
      ],
      "metadata": {
        "id": "NwCp55QahL_X",
        "execution": {
          "iopub.status.busy": "2023-11-24T13:57:43.886357Z",
          "iopub.execute_input": "2023-11-24T13:57:43.886685Z",
          "iopub.status.idle": "2023-11-24T13:57:43.895930Z",
          "shell.execute_reply.started": "2023-11-24T13:57:43.886654Z",
          "shell.execute_reply": "2023-11-24T13:57:43.895086Z"
        },
        "trusted": true
      },
      "execution_count": null,
      "outputs": []
    },
    {
      "cell_type": "code",
      "source": [
        "!pip install ktrain"
      ],
      "metadata": {
        "id": "ptESoVWRhemu",
        "outputId": "fbfc122c-93be-4a3a-8cd3-d26d2121f3bd",
        "execution": {
          "iopub.status.busy": "2023-11-24T13:57:43.896992Z",
          "iopub.execute_input": "2023-11-24T13:57:43.897310Z",
          "iopub.status.idle": "2023-11-24T13:58:27.283395Z",
          "shell.execute_reply.started": "2023-11-24T13:57:43.897279Z",
          "shell.execute_reply": "2023-11-24T13:58:27.282167Z"
        },
        "trusted": true,
        "colab": {
          "base_uri": "https://localhost:8080/"
        }
      },
      "execution_count": null,
      "outputs": [
        {
          "output_type": "stream",
          "name": "stdout",
          "text": [
            "Requirement already satisfied: ktrain in /usr/local/lib/python3.10/dist-packages (0.39.0)\n",
            "Requirement already satisfied: scikit-learn in /usr/local/lib/python3.10/dist-packages (from ktrain) (1.2.2)\n",
            "Requirement already satisfied: matplotlib>=3.0.0 in /usr/local/lib/python3.10/dist-packages (from ktrain) (3.7.1)\n",
            "Requirement already satisfied: pandas>=1.0.1 in /usr/local/lib/python3.10/dist-packages (from ktrain) (1.5.3)\n",
            "Requirement already satisfied: fastprogress>=0.1.21 in /usr/local/lib/python3.10/dist-packages (from ktrain) (1.0.3)\n",
            "Requirement already satisfied: requests in /usr/local/lib/python3.10/dist-packages (from ktrain) (2.31.0)\n",
            "Requirement already satisfied: joblib in /usr/local/lib/python3.10/dist-packages (from ktrain) (1.3.2)\n",
            "Requirement already satisfied: packaging in /usr/local/lib/python3.10/dist-packages (from ktrain) (23.2)\n",
            "Requirement already satisfied: langdetect in /usr/local/lib/python3.10/dist-packages (from ktrain) (1.0.9)\n",
            "Requirement already satisfied: jieba in /usr/local/lib/python3.10/dist-packages (from ktrain) (0.42.1)\n",
            "Requirement already satisfied: charset-normalizer in /usr/local/lib/python3.10/dist-packages (from ktrain) (3.3.2)\n",
            "Requirement already satisfied: chardet in /usr/local/lib/python3.10/dist-packages (from ktrain) (5.2.0)\n",
            "Requirement already satisfied: syntok>1.3.3 in /usr/local/lib/python3.10/dist-packages (from ktrain) (1.4.4)\n",
            "Requirement already satisfied: tika in /usr/local/lib/python3.10/dist-packages (from ktrain) (2.6.0)\n",
            "Requirement already satisfied: transformers>=4.17.0 in /usr/local/lib/python3.10/dist-packages (from ktrain) (4.35.2)\n",
            "Requirement already satisfied: sentencepiece in /usr/local/lib/python3.10/dist-packages (from ktrain) (0.1.99)\n",
            "Requirement already satisfied: keras-bert>=0.86.0 in /usr/local/lib/python3.10/dist-packages (from ktrain) (0.89.0)\n",
            "Requirement already satisfied: whoosh in /usr/local/lib/python3.10/dist-packages (from ktrain) (2.7.4)\n",
            "Requirement already satisfied: numpy in /usr/local/lib/python3.10/dist-packages (from keras-bert>=0.86.0->ktrain) (1.23.5)\n",
            "Requirement already satisfied: keras-transformer==0.40.0 in /usr/local/lib/python3.10/dist-packages (from keras-bert>=0.86.0->ktrain) (0.40.0)\n",
            "Requirement already satisfied: keras-pos-embd==0.13.0 in /usr/local/lib/python3.10/dist-packages (from keras-transformer==0.40.0->keras-bert>=0.86.0->ktrain) (0.13.0)\n",
            "Requirement already satisfied: keras-multi-head==0.29.0 in /usr/local/lib/python3.10/dist-packages (from keras-transformer==0.40.0->keras-bert>=0.86.0->ktrain) (0.29.0)\n",
            "Requirement already satisfied: keras-layer-normalization==0.16.0 in /usr/local/lib/python3.10/dist-packages (from keras-transformer==0.40.0->keras-bert>=0.86.0->ktrain) (0.16.0)\n",
            "Requirement already satisfied: keras-position-wise-feed-forward==0.8.0 in /usr/local/lib/python3.10/dist-packages (from keras-transformer==0.40.0->keras-bert>=0.86.0->ktrain) (0.8.0)\n",
            "Requirement already satisfied: keras-embed-sim==0.10.0 in /usr/local/lib/python3.10/dist-packages (from keras-transformer==0.40.0->keras-bert>=0.86.0->ktrain) (0.10.0)\n",
            "Requirement already satisfied: keras-self-attention==0.51.0 in /usr/local/lib/python3.10/dist-packages (from keras-multi-head==0.29.0->keras-transformer==0.40.0->keras-bert>=0.86.0->ktrain) (0.51.0)\n",
            "Requirement already satisfied: contourpy>=1.0.1 in /usr/local/lib/python3.10/dist-packages (from matplotlib>=3.0.0->ktrain) (1.2.0)\n",
            "Requirement already satisfied: cycler>=0.10 in /usr/local/lib/python3.10/dist-packages (from matplotlib>=3.0.0->ktrain) (0.12.1)\n",
            "Requirement already satisfied: fonttools>=4.22.0 in /usr/local/lib/python3.10/dist-packages (from matplotlib>=3.0.0->ktrain) (4.44.3)\n",
            "Requirement already satisfied: kiwisolver>=1.0.1 in /usr/local/lib/python3.10/dist-packages (from matplotlib>=3.0.0->ktrain) (1.4.5)\n",
            "Requirement already satisfied: pillow>=6.2.0 in /usr/local/lib/python3.10/dist-packages (from matplotlib>=3.0.0->ktrain) (9.4.0)\n",
            "Requirement already satisfied: pyparsing>=2.3.1 in /usr/local/lib/python3.10/dist-packages (from matplotlib>=3.0.0->ktrain) (3.1.1)\n",
            "Requirement already satisfied: python-dateutil>=2.7 in /usr/local/lib/python3.10/dist-packages (from matplotlib>=3.0.0->ktrain) (2.8.2)\n",
            "Requirement already satisfied: pytz>=2020.1 in /usr/local/lib/python3.10/dist-packages (from pandas>=1.0.1->ktrain) (2023.3.post1)\n",
            "Requirement already satisfied: regex>2016 in /usr/local/lib/python3.10/dist-packages (from syntok>1.3.3->ktrain) (2023.6.3)\n",
            "Requirement already satisfied: filelock in /usr/local/lib/python3.10/dist-packages (from transformers>=4.17.0->ktrain) (3.13.1)\n",
            "Requirement already satisfied: huggingface-hub<1.0,>=0.16.4 in /usr/local/lib/python3.10/dist-packages (from transformers>=4.17.0->ktrain) (0.19.4)\n",
            "Requirement already satisfied: pyyaml>=5.1 in /usr/local/lib/python3.10/dist-packages (from transformers>=4.17.0->ktrain) (6.0.1)\n",
            "Requirement already satisfied: tokenizers<0.19,>=0.14 in /usr/local/lib/python3.10/dist-packages (from transformers>=4.17.0->ktrain) (0.15.0)\n",
            "Requirement already satisfied: safetensors>=0.3.1 in /usr/local/lib/python3.10/dist-packages (from transformers>=4.17.0->ktrain) (0.4.0)\n",
            "Requirement already satisfied: tqdm>=4.27 in /usr/local/lib/python3.10/dist-packages (from transformers>=4.17.0->ktrain) (4.66.1)\n",
            "Requirement already satisfied: six in /usr/local/lib/python3.10/dist-packages (from langdetect->ktrain) (1.16.0)\n",
            "Requirement already satisfied: idna<4,>=2.5 in /usr/local/lib/python3.10/dist-packages (from requests->ktrain) (3.4)\n",
            "Requirement already satisfied: urllib3<3,>=1.21.1 in /usr/local/lib/python3.10/dist-packages (from requests->ktrain) (2.0.7)\n",
            "Requirement already satisfied: certifi>=2017.4.17 in /usr/local/lib/python3.10/dist-packages (from requests->ktrain) (2023.7.22)\n",
            "Requirement already satisfied: scipy>=1.3.2 in /usr/local/lib/python3.10/dist-packages (from scikit-learn->ktrain) (1.11.3)\n",
            "Requirement already satisfied: threadpoolctl>=2.0.0 in /usr/local/lib/python3.10/dist-packages (from scikit-learn->ktrain) (3.2.0)\n",
            "Requirement already satisfied: setuptools in /usr/local/lib/python3.10/dist-packages (from tika->ktrain) (67.7.2)\n",
            "Requirement already satisfied: fsspec>=2023.5.0 in /usr/local/lib/python3.10/dist-packages (from huggingface-hub<1.0,>=0.16.4->transformers>=4.17.0->ktrain) (2023.6.0)\n",
            "Requirement already satisfied: typing-extensions>=3.7.4.3 in /usr/local/lib/python3.10/dist-packages (from huggingface-hub<1.0,>=0.16.4->transformers>=4.17.0->ktrain) (4.5.0)\n"
          ]
        }
      ]
    },
    {
      "cell_type": "code",
      "source": [
        "%reload_ext autoreload\n",
        "%autoreload 2\n",
        "%matplotlib inline\n",
        "import os\n",
        "os.environ[\"CUDA_DEVICE_ORDER\"] = \"PCI_BUS_ID\"\n",
        "os.environ[\"CUDA_VISIBLE_DEVICES\"] = \"0\""
      ],
      "metadata": {
        "id": "GqAc64FJhyQ2",
        "execution": {
          "iopub.status.busy": "2023-11-24T13:58:27.284881Z",
          "iopub.execute_input": "2023-11-24T13:58:27.285249Z",
          "iopub.status.idle": "2023-11-24T13:58:27.372426Z",
          "shell.execute_reply.started": "2023-11-24T13:58:27.285218Z",
          "shell.execute_reply": "2023-11-24T13:58:27.371523Z"
        },
        "trusted": true
      },
      "execution_count": null,
      "outputs": []
    },
    {
      "cell_type": "code",
      "source": [
        "import ktrain\n",
        "from ktrain import text"
      ],
      "metadata": {
        "id": "4CG95-Rxh1CG",
        "execution": {
          "iopub.status.busy": "2023-11-24T13:58:27.373571Z",
          "iopub.execute_input": "2023-11-24T13:58:27.373843Z",
          "iopub.status.idle": "2023-11-24T13:58:40.383160Z",
          "shell.execute_reply.started": "2023-11-24T13:58:27.373818Z",
          "shell.execute_reply": "2023-11-24T13:58:40.382299Z"
        },
        "trusted": true
      },
      "execution_count": null,
      "outputs": []
    },
    {
      "cell_type": "code",
      "source": [
        "categories = [ 'original','Fake']"
      ],
      "metadata": {
        "id": "WKoMSsT-h4pu",
        "execution": {
          "iopub.status.busy": "2023-11-24T13:58:40.384507Z",
          "iopub.execute_input": "2023-11-24T13:58:40.385166Z",
          "iopub.status.idle": "2023-11-24T13:58:40.488067Z",
          "shell.execute_reply.started": "2023-11-24T13:58:40.385133Z",
          "shell.execute_reply": "2023-11-24T13:58:40.486954Z"
        },
        "trusted": true
      },
      "execution_count": null,
      "outputs": []
    },
    {
      "cell_type": "code",
      "source": [
        "X_train = train_data['cleaned'].tolist()\n",
        "y_train = train_data['enc_label'].tolist()\n",
        "\n",
        "X_valid = valid_data['cleaned'].tolist()\n",
        "y_valid = valid_data['enc_label'].tolist()\n",
        "\n",
        "X_test = test_data['cleaned'].tolist()"
      ],
      "metadata": {
        "id": "i_1VF5IOiAU4",
        "execution": {
          "iopub.status.busy": "2023-11-24T13:58:40.489474Z",
          "iopub.execute_input": "2023-11-24T13:58:40.489840Z",
          "iopub.status.idle": "2023-11-24T13:58:40.614670Z",
          "shell.execute_reply.started": "2023-11-24T13:58:40.489802Z",
          "shell.execute_reply": "2023-11-24T13:58:40.613471Z"
        },
        "trusted": true
      },
      "execution_count": null,
      "outputs": []
    },
    {
      "cell_type": "code",
      "source": [
        "model_name = 'bert-base-multilingual-cased'\n",
        "trans = text.Transformer(model_name,maxlen=180,class_names=categories)"
      ],
      "metadata": {
        "id": "R6RqU_eRiSO-",
        "execution": {
          "iopub.status.busy": "2023-11-24T14:39:56.676334Z",
          "iopub.execute_input": "2023-11-24T14:39:56.676738Z",
          "iopub.status.idle": "2023-11-24T14:40:00.002394Z",
          "shell.execute_reply.started": "2023-11-24T14:39:56.676707Z",
          "shell.execute_reply": "2023-11-24T14:40:00.001552Z"
        },
        "trusted": true
      },
      "execution_count": null,
      "outputs": []
    },
    {
      "cell_type": "code",
      "source": [
        "train = trans.preprocess_train(X_train,y_train)\n",
        "valid = trans.preprocess_test(X_valid,y_valid)"
      ],
      "metadata": {
        "id": "039BocgjiWIG",
        "outputId": "08c97ef4-2882-46a2-b071-8170c4786943",
        "execution": {
          "iopub.status.busy": "2023-11-24T14:40:01.639794Z",
          "iopub.execute_input": "2023-11-24T14:40:01.640169Z",
          "iopub.status.idle": "2023-11-24T14:40:03.636188Z",
          "shell.execute_reply.started": "2023-11-24T14:40:01.640140Z",
          "shell.execute_reply": "2023-11-24T14:40:03.635158Z"
        },
        "trusted": true
      },
      "execution_count": null,
      "outputs": [
        {
          "name": "stdout",
          "text": "preprocessing train...\nlanguage: ml\ntrain sequence lengths:\n\tmean : 11\n\t95percentile : 32\n\t99percentile : 67\n",
          "output_type": "stream"
        },
        {
          "output_type": "display_data",
          "data": {
            "text/plain": "<IPython.core.display.HTML object>",
            "text/html": "\n<style>\n    /* Turns off some styling */\n    progress {\n        /* gets rid of default border in Firefox and Opera. */\n        border: none;\n        /* Needs to be in here for Safari polyfill so background images work as expected. */\n        background-size: auto;\n    }\n    progress:not([value]), progress:not([value])::-webkit-progress-bar {\n        background: repeating-linear-gradient(45deg, #7e7e7e, #7e7e7e 10px, #5c5c5c 10px, #5c5c5c 20px);\n    }\n    .progress-bar-interrupted, .progress-bar-interrupted::-webkit-progress-bar {\n        background: #F44336;\n    }\n</style>\n"
          },
          "metadata": {}
        },
        {
          "output_type": "display_data",
          "data": {
            "text/plain": "<IPython.core.display.HTML object>",
            "text/html": ""
          },
          "metadata": {}
        },
        {
          "name": "stdout",
          "text": "Is Multi-Label? False\npreprocessing test...\nlanguage: ml\ntest sequence lengths:\n\tmean : 10\n\t95percentile : 29\n\t99percentile : 59\n",
          "output_type": "stream"
        },
        {
          "output_type": "display_data",
          "data": {
            "text/plain": "<IPython.core.display.HTML object>",
            "text/html": "\n<style>\n    /* Turns off some styling */\n    progress {\n        /* gets rid of default border in Firefox and Opera. */\n        border: none;\n        /* Needs to be in here for Safari polyfill so background images work as expected. */\n        background-size: auto;\n    }\n    progress:not([value]), progress:not([value])::-webkit-progress-bar {\n        background: repeating-linear-gradient(45deg, #7e7e7e, #7e7e7e 10px, #5c5c5c 10px, #5c5c5c 20px);\n    }\n    .progress-bar-interrupted, .progress-bar-interrupted::-webkit-progress-bar {\n        background: #F44336;\n    }\n</style>\n"
          },
          "metadata": {}
        },
        {
          "output_type": "display_data",
          "data": {
            "text/plain": "<IPython.core.display.HTML object>",
            "text/html": ""
          },
          "metadata": {}
        }
      ]
    },
    {
      "cell_type": "code",
      "source": [
        "model = trans.get_classifier()"
      ],
      "metadata": {
        "id": "LWmHigJUiaBn",
        "execution": {
          "iopub.status.busy": "2023-11-24T14:40:09.847990Z",
          "iopub.execute_input": "2023-11-24T14:40:09.848361Z",
          "iopub.status.idle": "2023-11-24T14:40:12.933688Z",
          "shell.execute_reply.started": "2023-11-24T14:40:09.848331Z",
          "shell.execute_reply": "2023-11-24T14:40:12.932831Z"
        },
        "trusted": true
      },
      "execution_count": null,
      "outputs": []
    },
    {
      "cell_type": "code",
      "source": [
        "learner = ktrain.get_learner(model, train_data=train,val_data=valid, batch_size=16)"
      ],
      "metadata": {
        "id": "5cuBn7OdidA2",
        "execution": {
          "iopub.status.busy": "2023-11-24T14:40:14.124193Z",
          "iopub.execute_input": "2023-11-24T14:40:14.124621Z",
          "iopub.status.idle": "2023-11-24T14:40:15.736608Z",
          "shell.execute_reply.started": "2023-11-24T14:40:14.124585Z",
          "shell.execute_reply": "2023-11-24T14:40:15.735556Z"
        },
        "trusted": true
      },
      "execution_count": null,
      "outputs": []
    },
    {
      "cell_type": "code",
      "source": [
        "from sklearn.utils import class_weight\n",
        "class_weights = class_weight.compute_class_weight('balanced'\n",
        "                                               ,classes = np.unique(train_data['enc_label'])\n",
        "                                               ,y = train_data['enc_label'])\n",
        "class_weights = dict(zip(np.unique(train_data['enc_label']), class_weights))"
      ],
      "metadata": {
        "id": "SYN2mqBPilVG",
        "execution": {
          "iopub.status.busy": "2023-11-24T14:40:16.995600Z",
          "iopub.execute_input": "2023-11-24T14:40:16.996047Z",
          "iopub.status.idle": "2023-11-24T14:40:17.118063Z",
          "shell.execute_reply.started": "2023-11-24T14:40:16.996010Z",
          "shell.execute_reply": "2023-11-24T14:40:17.116973Z"
        },
        "trusted": true
      },
      "execution_count": null,
      "outputs": []
    },
    {
      "cell_type": "code",
      "source": [
        "weight = {i : class_weights[i] for i in range(2)}\n",
        "weight"
      ],
      "metadata": {
        "id": "a5Avm6ncimun",
        "outputId": "ffbb1b3b-bdf6-4e17-dfc7-c20263ea8bd4",
        "execution": {
          "iopub.status.busy": "2023-11-24T14:40:19.207639Z",
          "iopub.execute_input": "2023-11-24T14:40:19.208039Z",
          "iopub.status.idle": "2023-11-24T14:40:19.310469Z",
          "shell.execute_reply.started": "2023-11-24T14:40:19.208003Z",
          "shell.execute_reply": "2023-11-24T14:40:19.309438Z"
        },
        "trusted": true
      },
      "execution_count": null,
      "outputs": [
        {
          "execution_count": 59,
          "output_type": "execute_result",
          "data": {
            "text/plain": "{0: 0.9827898550724637, 1: 1.0178236397748592}"
          },
          "metadata": {}
        }
      ]
    },
    {
      "cell_type": "code",
      "source": [
        "learner.fit_onecycle(1e-5,10,class_weight=weight)"
      ],
      "metadata": {
        "id": "4BEbirHOirkP",
        "outputId": "b37fdd3b-e2e6-4800-ea84-948f71a21fb0",
        "execution": {
          "iopub.status.busy": "2023-11-24T14:40:20.382738Z",
          "iopub.execute_input": "2023-11-24T14:40:20.383647Z"
        },
        "trusted": true
      },
      "execution_count": null,
      "outputs": [
        {
          "name": "stdout",
          "text": "\n\nbegin training using onecycle policy with max lr of 1e-05...\nEpoch 1/10\n204/204 [==============================] - 156s 676ms/step - loss: 0.6155 - accuracy: 0.6421 - val_loss: 0.6175 - val_accuracy: 0.7571\nEpoch 2/10\n204/204 [==============================] - 134s 659ms/step - loss: 0.4325 - accuracy: 0.8095 - val_loss: 0.4072 - val_accuracy: 0.8147\nEpoch 3/10\n204/204 [==============================] - 134s 659ms/step - loss: 0.3022 - accuracy: 0.8774 - val_loss: 0.3680 - val_accuracy: 0.8270\nEpoch 4/10\n204/204 [==============================] - 134s 659ms/step - loss: 0.2400 - accuracy: 0.9032 - val_loss: 0.3786 - val_accuracy: 0.8479\nEpoch 5/10\n204/204 [==============================] - 134s 659ms/step - loss: 0.1671 - accuracy: 0.9389 - val_loss: 0.4113 - val_accuracy: 0.8540\nEpoch 6/10\n 10/204 [>.............................] - ETA: 1:58 - loss: 0.0943 - accuracy: 0.9750",
          "output_type": "stream"
        }
      ]
    },
    {
      "cell_type": "code",
      "source": [
        "learner.validate(class_names=categories)"
      ],
      "metadata": {
        "id": "izAORenuoamQ",
        "trusted": true
      },
      "execution_count": null,
      "outputs": []
    },
    {
      "cell_type": "code",
      "source": [
        "ktrain.get_predictor(learner.model,preproc=trans).save('m-bert-model')"
      ],
      "metadata": {
        "id": "rmJWhgFs0WRd"
      },
      "execution_count": null,
      "outputs": []
    },
    {
      "cell_type": "code",
      "source": [
        "predictor = ktrain.load_predictor('m-bert-model')\n",
        "model = ktrain.get_predictor(predictor.model, predictor.preproc)"
      ],
      "metadata": {
        "id": "5t4KKrjg0WRd"
      },
      "execution_count": null,
      "outputs": []
    },
    {
      "cell_type": "code",
      "source": [],
      "metadata": {
        "id": "JejxoJgi0WRd"
      },
      "execution_count": null,
      "outputs": []
    },
    {
      "cell_type": "code",
      "source": [
        "model_name = 'xlm-roberta-base'\n",
        "trans = text.Transformer(model_name,maxlen=180,class_names=categories)"
      ],
      "metadata": {
        "id": "ubpVNVgepTc4",
        "execution": {
          "iopub.status.busy": "2023-11-24T13:59:02.218174Z",
          "iopub.status.idle": "2023-11-24T13:59:02.218532Z",
          "shell.execute_reply.started": "2023-11-24T13:59:02.218355Z",
          "shell.execute_reply": "2023-11-24T13:59:02.218371Z"
        },
        "trusted": true
      },
      "execution_count": null,
      "outputs": []
    },
    {
      "cell_type": "code",
      "source": [
        "train = trans.preprocess_train(X_train,y_train)\n",
        "valid = trans.preprocess_test(X_valid,y_valid)"
      ],
      "metadata": {
        "id": "EB9SxQZfpnVZ",
        "execution": {
          "iopub.status.busy": "2023-11-24T13:59:02.220112Z",
          "iopub.status.idle": "2023-11-24T13:59:02.220451Z",
          "shell.execute_reply.started": "2023-11-24T13:59:02.220282Z",
          "shell.execute_reply": "2023-11-24T13:59:02.220298Z"
        },
        "trusted": true,
        "colab": {
          "base_uri": "https://localhost:8080/",
          "height": 249
        },
        "outputId": "fd188729-5aa0-40f8-cf54-a9c44227a416"
      },
      "execution_count": null,
      "outputs": [
        {
          "output_type": "stream",
          "name": "stdout",
          "text": [
            "preprocessing train...\n",
            "language: ml\n",
            "train sequence lengths:\n",
            "\tmean : 11\n",
            "\t95percentile : 32\n",
            "\t99percentile : 67\n"
          ]
        },
        {
          "output_type": "display_data",
          "data": {
            "text/plain": [
              "<IPython.core.display.HTML object>"
            ],
            "text/html": [
              "\n",
              "<style>\n",
              "    /* Turns off some styling */\n",
              "    progress {\n",
              "        /* gets rid of default border in Firefox and Opera. */\n",
              "        border: none;\n",
              "        /* Needs to be in here for Safari polyfill so background images work as expected. */\n",
              "        background-size: auto;\n",
              "    }\n",
              "    progress:not([value]), progress:not([value])::-webkit-progress-bar {\n",
              "        background: repeating-linear-gradient(45deg, #7e7e7e, #7e7e7e 10px, #5c5c5c 10px, #5c5c5c 20px);\n",
              "    }\n",
              "    .progress-bar-interrupted, .progress-bar-interrupted::-webkit-progress-bar {\n",
              "        background: #F44336;\n",
              "    }\n",
              "</style>\n"
            ]
          },
          "metadata": {}
        },
        {
          "output_type": "display_data",
          "data": {
            "text/plain": [
              "<IPython.core.display.HTML object>"
            ],
            "text/html": []
          },
          "metadata": {}
        },
        {
          "output_type": "stream",
          "name": "stdout",
          "text": [
            "Is Multi-Label? False\n",
            "preprocessing test...\n",
            "language: ml\n",
            "test sequence lengths:\n",
            "\tmean : 10\n",
            "\t95percentile : 29\n",
            "\t99percentile : 59\n"
          ]
        },
        {
          "output_type": "display_data",
          "data": {
            "text/plain": [
              "<IPython.core.display.HTML object>"
            ],
            "text/html": [
              "\n",
              "<style>\n",
              "    /* Turns off some styling */\n",
              "    progress {\n",
              "        /* gets rid of default border in Firefox and Opera. */\n",
              "        border: none;\n",
              "        /* Needs to be in here for Safari polyfill so background images work as expected. */\n",
              "        background-size: auto;\n",
              "    }\n",
              "    progress:not([value]), progress:not([value])::-webkit-progress-bar {\n",
              "        background: repeating-linear-gradient(45deg, #7e7e7e, #7e7e7e 10px, #5c5c5c 10px, #5c5c5c 20px);\n",
              "    }\n",
              "    .progress-bar-interrupted, .progress-bar-interrupted::-webkit-progress-bar {\n",
              "        background: #F44336;\n",
              "    }\n",
              "</style>\n"
            ]
          },
          "metadata": {}
        },
        {
          "output_type": "display_data",
          "data": {
            "text/plain": [
              "<IPython.core.display.HTML object>"
            ],
            "text/html": []
          },
          "metadata": {}
        }
      ]
    },
    {
      "cell_type": "code",
      "source": [
        "model = trans.get_classifier()"
      ],
      "metadata": {
        "id": "--37FXHypqVx",
        "execution": {
          "iopub.status.busy": "2023-11-24T13:59:02.221915Z",
          "iopub.status.idle": "2023-11-24T13:59:02.222253Z",
          "shell.execute_reply.started": "2023-11-24T13:59:02.222087Z",
          "shell.execute_reply": "2023-11-24T13:59:02.222104Z"
        },
        "trusted": true
      },
      "execution_count": null,
      "outputs": []
    },
    {
      "cell_type": "code",
      "source": [
        "learner = ktrain.get_learner(model, train_data=train,val_data=valid, batch_size=16)"
      ],
      "metadata": {
        "id": "beQBCSarpxSh",
        "execution": {
          "iopub.status.busy": "2023-11-24T13:59:02.223514Z",
          "iopub.status.idle": "2023-11-24T13:59:02.223868Z",
          "shell.execute_reply.started": "2023-11-24T13:59:02.223694Z",
          "shell.execute_reply": "2023-11-24T13:59:02.223712Z"
        },
        "trusted": true
      },
      "execution_count": null,
      "outputs": []
    },
    {
      "cell_type": "code",
      "source": [
        "from sklearn.utils import class_weight\n",
        "class_weights = class_weight.compute_class_weight('balanced'\n",
        "                                               ,classes = np.unique(train_data['enc_label'])\n",
        "                                               ,y = train_data['enc_label'])\n",
        "class_weights = dict(zip(np.unique(train_data['enc_label']), class_weights))"
      ],
      "metadata": {
        "id": "dPVm_uSBp5kg",
        "execution": {
          "iopub.status.busy": "2023-11-24T13:59:02.225870Z",
          "iopub.status.idle": "2023-11-24T13:59:02.226292Z",
          "shell.execute_reply.started": "2023-11-24T13:59:02.226111Z",
          "shell.execute_reply": "2023-11-24T13:59:02.226129Z"
        },
        "trusted": true
      },
      "execution_count": null,
      "outputs": []
    },
    {
      "cell_type": "code",
      "source": [],
      "metadata": {
        "id": "MoETQ8Qwp7gY"
      },
      "execution_count": null,
      "outputs": []
    },
    {
      "cell_type": "code",
      "source": [
        "weight = {i : class_weights[i] for i in range(2)}\n",
        "weight"
      ],
      "metadata": {
        "id": "nzpvBODaqCsR",
        "execution": {
          "iopub.status.busy": "2023-11-24T13:59:02.227510Z",
          "iopub.status.idle": "2023-11-24T13:59:02.227861Z",
          "shell.execute_reply.started": "2023-11-24T13:59:02.227688Z",
          "shell.execute_reply": "2023-11-24T13:59:02.227705Z"
        },
        "trusted": true,
        "colab": {
          "base_uri": "https://localhost:8080/"
        },
        "outputId": "3a8df1ec-149e-411f-c311-8e994db124a9"
      },
      "execution_count": null,
      "outputs": [
        {
          "output_type": "execute_result",
          "data": {
            "text/plain": [
              "{0: 0.9827898550724637, 1: 1.0178236397748592}"
            ]
          },
          "metadata": {},
          "execution_count": 60
        }
      ]
    },
    {
      "cell_type": "code",
      "source": [
        "learner.fit_onecycle(1e-5,10,class_weight=weight)"
      ],
      "metadata": {
        "id": "lqqt5aRZqI5g",
        "execution": {
          "iopub.status.busy": "2023-11-24T13:59:02.229279Z",
          "iopub.status.idle": "2023-11-24T13:59:02.229617Z",
          "shell.execute_reply.started": "2023-11-24T13:59:02.229451Z",
          "shell.execute_reply": "2023-11-24T13:59:02.229467Z"
        },
        "trusted": true,
        "colab": {
          "base_uri": "https://localhost:8080/"
        },
        "outputId": "30d360f7-b674-40ff-cf63-35e7b8f2d205"
      },
      "execution_count": null,
      "outputs": [
        {
          "output_type": "stream",
          "name": "stdout",
          "text": [
            "\n",
            "\n",
            "begin training using onecycle policy with max lr of 1e-05...\n",
            "Epoch 1/10\n",
            "204/204 [==============================] - 169s 745ms/step - loss: 0.6764 - accuracy: 0.5677 - val_loss: 0.6059 - val_accuracy: 0.6871\n",
            "Epoch 2/10\n",
            "204/204 [==============================] - 151s 742ms/step - loss: 0.5356 - accuracy: 0.7475 - val_loss: 0.3974 - val_accuracy: 0.8245\n",
            "Epoch 3/10\n",
            "204/204 [==============================] - 151s 740ms/step - loss: 0.4305 - accuracy: 0.8074 - val_loss: 0.3721 - val_accuracy: 0.8466\n",
            "Epoch 4/10\n",
            "204/204 [==============================] - 151s 741ms/step - loss: 0.3672 - accuracy: 0.8458 - val_loss: 0.3489 - val_accuracy: 0.8454\n",
            "Epoch 5/10\n",
            "204/204 [==============================] - 151s 741ms/step - loss: 0.3056 - accuracy: 0.8753 - val_loss: 0.3414 - val_accuracy: 0.8613\n",
            "Epoch 6/10\n",
            "204/204 [==============================] - 151s 741ms/step - loss: 0.2611 - accuracy: 0.8998 - val_loss: 0.3483 - val_accuracy: 0.8650\n",
            "Epoch 7/10\n",
            "204/204 [==============================] - 151s 741ms/step - loss: 0.1967 - accuracy: 0.9275 - val_loss: 0.3628 - val_accuracy: 0.8675\n",
            "Epoch 8/10\n",
            "204/204 [==============================] - 151s 740ms/step - loss: 0.1624 - accuracy: 0.9444 - val_loss: 0.3803 - val_accuracy: 0.8675\n",
            "Epoch 9/10\n",
            "204/204 [==============================] - 151s 740ms/step - loss: 0.1212 - accuracy: 0.9542 - val_loss: 0.3971 - val_accuracy: 0.8736\n",
            "Epoch 10/10\n",
            "204/204 [==============================] - 151s 741ms/step - loss: 0.1027 - accuracy: 0.9628 - val_loss: 0.3985 - val_accuracy: 0.8785\n"
          ]
        },
        {
          "output_type": "execute_result",
          "data": {
            "text/plain": [
              "<keras.src.callbacks.History at 0x7c308c8b8490>"
            ]
          },
          "metadata": {},
          "execution_count": 61
        }
      ]
    },
    {
      "cell_type": "code",
      "source": [
        "learner.validate(class_names=categories)"
      ],
      "metadata": {
        "id": "0xNMD7QOxKXv",
        "execution": {
          "iopub.status.busy": "2023-11-24T13:59:02.230883Z",
          "iopub.status.idle": "2023-11-24T13:59:02.231397Z",
          "shell.execute_reply.started": "2023-11-24T13:59:02.231145Z",
          "shell.execute_reply": "2023-11-24T13:59:02.231169Z"
        },
        "trusted": true,
        "colab": {
          "base_uri": "https://localhost:8080/"
        },
        "outputId": "c2f54332-9955-4583-9da2-c154eed62f26"
      },
      "execution_count": null,
      "outputs": [
        {
          "output_type": "stream",
          "name": "stdout",
          "text": [
            "26/26 [==============================] - 13s 391ms/step\n",
            "              precision    recall  f1-score   support\n",
            "\n",
            "    original       0.88      0.88      0.88       409\n",
            "        Fake       0.88      0.88      0.88       406\n",
            "\n",
            "    accuracy                           0.88       815\n",
            "   macro avg       0.88      0.88      0.88       815\n",
            "weighted avg       0.88      0.88      0.88       815\n",
            "\n"
          ]
        },
        {
          "output_type": "execute_result",
          "data": {
            "text/plain": [
              "array([[360,  49],\n",
              "       [ 50, 356]])"
            ]
          },
          "metadata": {},
          "execution_count": 62
        }
      ]
    },
    {
      "cell_type": "code",
      "source": [
        "ktrain.get_predictor(learner.model,preproc=trans).save('/content/drive/MyDrive/Punny_Punctuators/DravidianLangTech@EACL_2024/Task_1/roberta-model')"
      ],
      "metadata": {
        "id": "-zW82VBe0WRe"
      },
      "execution_count": null,
      "outputs": []
    },
    {
      "cell_type": "code",
      "source": [
        "predictor = ktrain.load_predictor('/content/drive/MyDrive/Punny_Punctuators/DravidianLangTech@EACL_2024/Task_1/roberta-model')\n",
        "model = ktrain.get_predictor(predictor.model, predictor.preproc)"
      ],
      "metadata": {
        "id": "4_2kHTVs1_Yq"
      },
      "execution_count": null,
      "outputs": []
    },
    {
      "cell_type": "code",
      "source": [],
      "metadata": {
        "id": "7hBfupFz2H6Q"
      },
      "execution_count": null,
      "outputs": []
    },
    {
      "cell_type": "code",
      "source": [
        "model_name = 'l3cube-pune/malayalam-bert'\n",
        "trans = text.Transformer(model_name,maxlen=180,class_names=categories)"
      ],
      "metadata": {
        "trusted": true,
        "id": "cGjweDS40WRe"
      },
      "execution_count": null,
      "outputs": []
    },
    {
      "cell_type": "code",
      "source": [
        "train = trans.preprocess_train(X_train,y_train)\n",
        "valid = trans.preprocess_test(X_valid,y_valid)"
      ],
      "metadata": {
        "trusted": true,
        "id": "vUfQzN6v0WRe"
      },
      "execution_count": null,
      "outputs": []
    },
    {
      "cell_type": "code",
      "source": [
        "model = trans.get_classifier()"
      ],
      "metadata": {
        "trusted": true,
        "id": "pFhagKbK0WRe"
      },
      "execution_count": null,
      "outputs": []
    },
    {
      "cell_type": "code",
      "source": [
        "learner = ktrain.get_learner(model, train_data=train,val_data=valid, batch_size=9)"
      ],
      "metadata": {
        "trusted": true,
        "id": "W-zBU3Df0WRe"
      },
      "execution_count": null,
      "outputs": []
    },
    {
      "cell_type": "code",
      "source": [
        "from sklearn.utils import class_weight\n",
        "class_weights = class_weight.compute_class_weight('balanced'\n",
        "                                               ,classes = np.unique(train_data['enc_label'])\n",
        "                                               ,y = train_data['enc_label'])\n",
        "class_weights = dict(zip(np.unique(train_data['enc_label']), class_weights))"
      ],
      "metadata": {
        "trusted": true,
        "id": "39K_ouhE0WRe"
      },
      "execution_count": null,
      "outputs": []
    },
    {
      "cell_type": "code",
      "source": [
        "weight = {i : class_weights[i] for i in range(2)}\n",
        "weight"
      ],
      "metadata": {
        "trusted": true,
        "id": "QobBsP9B0WRe"
      },
      "execution_count": null,
      "outputs": []
    },
    {
      "cell_type": "code",
      "source": [
        "learner.fit_onecycle(1e-5,10,class_weight=weight)"
      ],
      "metadata": {
        "trusted": true,
        "id": "2hPWoV_H0WRe"
      },
      "execution_count": null,
      "outputs": []
    },
    {
      "cell_type": "code",
      "source": [
        "learner.validate(class_names=categories)"
      ],
      "metadata": {
        "trusted": true,
        "id": "4CAxIk6M0WRe"
      },
      "execution_count": null,
      "outputs": []
    },
    {
      "cell_type": "code",
      "source": [
        "ktrain.get_predictor(learner.model,preproc=trans).save('malay-model')"
      ],
      "metadata": {
        "trusted": true,
        "id": "Z8oXSKke0WRf"
      },
      "execution_count": null,
      "outputs": []
    },
    {
      "cell_type": "code",
      "source": [],
      "metadata": {
        "id": "5sIGhpbj6kMM"
      },
      "execution_count": null,
      "outputs": []
    },
    {
      "cell_type": "code",
      "source": [
        "predictor = ktrain.load_predictor('/content/drive/MyDrive/Punny_Punctuators/DravidianLangTech@EACL_2024/Task_1/roberta-model')\n",
        "model = ktrain.get_predictor(predictor.model, predictor.preproc)"
      ],
      "metadata": {
        "trusted": true,
        "id": "F8ZCyBhi0WRf"
      },
      "execution_count": null,
      "outputs": []
    },
    {
      "cell_type": "code",
      "source": [
        "predictor.predict('എന്തുവാ സഖാവേ അമ്മായിക്കും അടുപ്പിലും ആവാം\t')"
      ],
      "metadata": {
        "trusted": true,
        "id": "iHt61HnO0WRf",
        "colab": {
          "base_uri": "https://localhost:8080/",
          "height": 35
        },
        "outputId": "7666d322-0739-46aa-fe2a-aa12c5f46438"
      },
      "execution_count": null,
      "outputs": [
        {
          "output_type": "execute_result",
          "data": {
            "text/plain": [
              "'original'"
            ],
            "application/vnd.google.colaboratory.intrinsic+json": {
              "type": "string"
            }
          },
          "metadata": {},
          "execution_count": 65
        }
      ]
    },
    {
      "cell_type": "code",
      "source": [
        "test_data.sample(10)"
      ],
      "metadata": {
        "trusted": true,
        "id": "ftSDkmSX0WRf",
        "colab": {
          "base_uri": "https://localhost:8080/",
          "height": 450
        },
        "outputId": "8e17f107-22f2-4742-9669-65c152d382da"
      },
      "execution_count": null,
      "outputs": [
        {
          "output_type": "execute_result",
          "data": {
            "text/plain": [
              "     Unnamed: 0                                               text  \\\n",
              "234         234  China cheated the whole world. World should bo...   \n",
              "742         742                                            Kashtam   \n",
              "833         833  ശരി യാകാൻ ഇടയില്ല. <br>.. ചൈനയിൽ ഇപ്പോഴും മരണം...   \n",
              "361         361  ദൈവം മനുഷ്യനെ സരള ഹൃദയനായി സൃഷ്ടിച്ചു. എന്നാല്...   \n",
              "5             5  Why not all countries club together n block ch...   \n",
              "832         832  എന്തായാലും മരണം നിശ്ചയം. അതറിയാവുന്നവർ ആയിരിക്...   \n",
              "219         219             Nashicha vaccine edukandayirunnu kop 😡   \n",
              "960         960  Sagav p jayarjettanu ethire nadapadi ethinayir...   \n",
              "654         654  ഇതേക്കുറിച്ചു ഞാനും ചിന്തിച്ചിരുന്നു....... എന...   \n",
              "867         867                        vidagdar ethiyallo 🤣🤣🤣🤣🤣🤣🤣🤣   \n",
              "\n",
              "                                               cleaned  \\\n",
              "234  ചിന ചീറ്റഡ് തെ വോൾ വേർൽഡ് വേർൽഡ് ഷോൾഡ് ബോയ്കോട...   \n",
              "742                                              കഷ്ടം   \n",
              "833  ശരി യാകാൻ ഇടയില്ല ബിആർ ചൈനയിൽ ഇപ്പോഴും മരണം കൊ...   \n",
              "361  ദൈവം മനുഷ്യനെ സരള ഹൃദയനായി സൃഷ്ടിച്ചു എന്നാല്‍...   \n",
              "5    വൈ നോട്ട് ആൽ കണ്ട്രീസ് ക്ലബ് ടോഗെതർ ന് ബ്ലോക്ക...   \n",
              "832  എന്തായാലും മരണം നിശ്ചയം അതറിയാവുന്നവർ ആയിരിക്ക...   \n",
              "219            നശിച്ച വാക്സിൻ എടുകണ്ടയിരുന്നു കോപ്പ്     \n",
              "960  സാഗവ് പ് ജയർജെറ്റാണ് എതിരെ നടപടി ഇതിനായിരുന്നു...   \n",
              "654  ഇതേക്കുറിച്ചു ഞാനും ചിന്തിച്ചിരുന്നു എന്തായാലു...   \n",
              "867                               വിദഗ്ദർ എത്തിയല്ലോ     \n",
              "\n",
              "                                   transliterated_text     Label  \n",
              "234  ചിന ചീറ്റഡ് തെ വോൾ വേർൽഡ് വേർൽഡ് ഷോൾഡ് ബോയ്കോട...      Fake  \n",
              "742                                              കഷ്ടം  original  \n",
              "833  ശരി യാകാൻ ഇടയില്ല ബിആർ ചൈനയിൽ ഇപ്പോഴും മരണം കൊ...      Fake  \n",
              "361  ദൈവം മനുഷ്യനെ സരള ഹൃദയനായി സൃഷ്ടിച്ചു എന്നാല്‍...      Fake  \n",
              "5    വൈ നോട്ട് ആൽ കണ്ട്രീസ് ക്ലബ് ടോഗെതർ ന് ബ്ലോക്ക...      Fake  \n",
              "832  എന്തായാലും മരണം നിശ്ചയം അതറിയാവുന്നവർ ആയിരിക്ക...      Fake  \n",
              "219            നശിച്ച വാക്സിൻ എടുകണ്ടയിരുന്നു കോപ്പ് 😡      Fake  \n",
              "960  സാഗവ് പ് ജയർജെറ്റാണ് എതിരെ നടപടി ഇതിനായിരുന്നു...  original  \n",
              "654  ഇതേക്കുറിച്ചു ഞാനും ചിന്തിച്ചിരുന്നു എന്തായാലു...      Fake  \n",
              "867                        വിദഗ്ദർ എത്തിയല്ലോ 🤣🤣🤣🤣🤣🤣🤣🤣      Fake  "
            ],
            "text/html": [
              "\n",
              "  <div id=\"df-e5d2090d-15f9-466a-bc91-35ac571511cb\" class=\"colab-df-container\">\n",
              "    <div>\n",
              "<style scoped>\n",
              "    .dataframe tbody tr th:only-of-type {\n",
              "        vertical-align: middle;\n",
              "    }\n",
              "\n",
              "    .dataframe tbody tr th {\n",
              "        vertical-align: top;\n",
              "    }\n",
              "\n",
              "    .dataframe thead th {\n",
              "        text-align: right;\n",
              "    }\n",
              "</style>\n",
              "<table border=\"1\" class=\"dataframe\">\n",
              "  <thead>\n",
              "    <tr style=\"text-align: right;\">\n",
              "      <th></th>\n",
              "      <th>Unnamed: 0</th>\n",
              "      <th>text</th>\n",
              "      <th>cleaned</th>\n",
              "      <th>transliterated_text</th>\n",
              "      <th>Label</th>\n",
              "    </tr>\n",
              "  </thead>\n",
              "  <tbody>\n",
              "    <tr>\n",
              "      <th>234</th>\n",
              "      <td>234</td>\n",
              "      <td>China cheated the whole world. World should bo...</td>\n",
              "      <td>ചിന ചീറ്റഡ് തെ വോൾ വേർൽഡ് വേർൽഡ് ഷോൾഡ് ബോയ്കോട...</td>\n",
              "      <td>ചിന ചീറ്റഡ് തെ വോൾ വേർൽഡ് വേർൽഡ് ഷോൾഡ് ബോയ്കോട...</td>\n",
              "      <td>Fake</td>\n",
              "    </tr>\n",
              "    <tr>\n",
              "      <th>742</th>\n",
              "      <td>742</td>\n",
              "      <td>Kashtam</td>\n",
              "      <td>കഷ്ടം</td>\n",
              "      <td>കഷ്ടം</td>\n",
              "      <td>original</td>\n",
              "    </tr>\n",
              "    <tr>\n",
              "      <th>833</th>\n",
              "      <td>833</td>\n",
              "      <td>ശരി യാകാൻ ഇടയില്ല. &lt;br&gt;.. ചൈനയിൽ ഇപ്പോഴും മരണം...</td>\n",
              "      <td>ശരി യാകാൻ ഇടയില്ല ബിആർ ചൈനയിൽ ഇപ്പോഴും മരണം കൊ...</td>\n",
              "      <td>ശരി യാകാൻ ഇടയില്ല ബിആർ ചൈനയിൽ ഇപ്പോഴും മരണം കൊ...</td>\n",
              "      <td>Fake</td>\n",
              "    </tr>\n",
              "    <tr>\n",
              "      <th>361</th>\n",
              "      <td>361</td>\n",
              "      <td>ദൈവം മനുഷ്യനെ സരള ഹൃദയനായി സൃഷ്ടിച്ചു. എന്നാല്...</td>\n",
              "      <td>ദൈവം മനുഷ്യനെ സരള ഹൃദയനായി സൃഷ്ടിച്ചു എന്നാല്‍...</td>\n",
              "      <td>ദൈവം മനുഷ്യനെ സരള ഹൃദയനായി സൃഷ്ടിച്ചു എന്നാല്‍...</td>\n",
              "      <td>Fake</td>\n",
              "    </tr>\n",
              "    <tr>\n",
              "      <th>5</th>\n",
              "      <td>5</td>\n",
              "      <td>Why not all countries club together n block ch...</td>\n",
              "      <td>വൈ നോട്ട് ആൽ കണ്ട്രീസ് ക്ലബ് ടോഗെതർ ന് ബ്ലോക്ക...</td>\n",
              "      <td>വൈ നോട്ട് ആൽ കണ്ട്രീസ് ക്ലബ് ടോഗെതർ ന് ബ്ലോക്ക...</td>\n",
              "      <td>Fake</td>\n",
              "    </tr>\n",
              "    <tr>\n",
              "      <th>832</th>\n",
              "      <td>832</td>\n",
              "      <td>എന്തായാലും മരണം നിശ്ചയം. അതറിയാവുന്നവർ ആയിരിക്...</td>\n",
              "      <td>എന്തായാലും മരണം നിശ്ചയം അതറിയാവുന്നവർ ആയിരിക്ക...</td>\n",
              "      <td>എന്തായാലും മരണം നിശ്ചയം അതറിയാവുന്നവർ ആയിരിക്ക...</td>\n",
              "      <td>Fake</td>\n",
              "    </tr>\n",
              "    <tr>\n",
              "      <th>219</th>\n",
              "      <td>219</td>\n",
              "      <td>Nashicha vaccine edukandayirunnu kop 😡</td>\n",
              "      <td>നശിച്ച വാക്സിൻ എടുകണ്ടയിരുന്നു കോപ്പ്</td>\n",
              "      <td>നശിച്ച വാക്സിൻ എടുകണ്ടയിരുന്നു കോപ്പ് 😡</td>\n",
              "      <td>Fake</td>\n",
              "    </tr>\n",
              "    <tr>\n",
              "      <th>960</th>\n",
              "      <td>960</td>\n",
              "      <td>Sagav p jayarjettanu ethire nadapadi ethinayir...</td>\n",
              "      <td>സാഗവ് പ് ജയർജെറ്റാണ് എതിരെ നടപടി ഇതിനായിരുന്നു...</td>\n",
              "      <td>സാഗവ് പ് ജയർജെറ്റാണ് എതിരെ നടപടി ഇതിനായിരുന്നു...</td>\n",
              "      <td>original</td>\n",
              "    </tr>\n",
              "    <tr>\n",
              "      <th>654</th>\n",
              "      <td>654</td>\n",
              "      <td>ഇതേക്കുറിച്ചു ഞാനും ചിന്തിച്ചിരുന്നു....... എന...</td>\n",
              "      <td>ഇതേക്കുറിച്ചു ഞാനും ചിന്തിച്ചിരുന്നു എന്തായാലു...</td>\n",
              "      <td>ഇതേക്കുറിച്ചു ഞാനും ചിന്തിച്ചിരുന്നു എന്തായാലു...</td>\n",
              "      <td>Fake</td>\n",
              "    </tr>\n",
              "    <tr>\n",
              "      <th>867</th>\n",
              "      <td>867</td>\n",
              "      <td>vidagdar ethiyallo 🤣🤣🤣🤣🤣🤣🤣🤣</td>\n",
              "      <td>വിദഗ്ദർ എത്തിയല്ലോ</td>\n",
              "      <td>വിദഗ്ദർ എത്തിയല്ലോ 🤣🤣🤣🤣🤣🤣🤣🤣</td>\n",
              "      <td>Fake</td>\n",
              "    </tr>\n",
              "  </tbody>\n",
              "</table>\n",
              "</div>\n",
              "    <div class=\"colab-df-buttons\">\n",
              "\n",
              "  <div class=\"colab-df-container\">\n",
              "    <button class=\"colab-df-convert\" onclick=\"convertToInteractive('df-e5d2090d-15f9-466a-bc91-35ac571511cb')\"\n",
              "            title=\"Convert this dataframe to an interactive table.\"\n",
              "            style=\"display:none;\">\n",
              "\n",
              "  <svg xmlns=\"http://www.w3.org/2000/svg\" height=\"24px\" viewBox=\"0 -960 960 960\">\n",
              "    <path d=\"M120-120v-720h720v720H120Zm60-500h600v-160H180v160Zm220 220h160v-160H400v160Zm0 220h160v-160H400v160ZM180-400h160v-160H180v160Zm440 0h160v-160H620v160ZM180-180h160v-160H180v160Zm440 0h160v-160H620v160Z\"/>\n",
              "  </svg>\n",
              "    </button>\n",
              "\n",
              "  <style>\n",
              "    .colab-df-container {\n",
              "      display:flex;\n",
              "      gap: 12px;\n",
              "    }\n",
              "\n",
              "    .colab-df-convert {\n",
              "      background-color: #E8F0FE;\n",
              "      border: none;\n",
              "      border-radius: 50%;\n",
              "      cursor: pointer;\n",
              "      display: none;\n",
              "      fill: #1967D2;\n",
              "      height: 32px;\n",
              "      padding: 0 0 0 0;\n",
              "      width: 32px;\n",
              "    }\n",
              "\n",
              "    .colab-df-convert:hover {\n",
              "      background-color: #E2EBFA;\n",
              "      box-shadow: 0px 1px 2px rgba(60, 64, 67, 0.3), 0px 1px 3px 1px rgba(60, 64, 67, 0.15);\n",
              "      fill: #174EA6;\n",
              "    }\n",
              "\n",
              "    .colab-df-buttons div {\n",
              "      margin-bottom: 4px;\n",
              "    }\n",
              "\n",
              "    [theme=dark] .colab-df-convert {\n",
              "      background-color: #3B4455;\n",
              "      fill: #D2E3FC;\n",
              "    }\n",
              "\n",
              "    [theme=dark] .colab-df-convert:hover {\n",
              "      background-color: #434B5C;\n",
              "      box-shadow: 0px 1px 3px 1px rgba(0, 0, 0, 0.15);\n",
              "      filter: drop-shadow(0px 1px 2px rgba(0, 0, 0, 0.3));\n",
              "      fill: #FFFFFF;\n",
              "    }\n",
              "  </style>\n",
              "\n",
              "    <script>\n",
              "      const buttonEl =\n",
              "        document.querySelector('#df-e5d2090d-15f9-466a-bc91-35ac571511cb button.colab-df-convert');\n",
              "      buttonEl.style.display =\n",
              "        google.colab.kernel.accessAllowed ? 'block' : 'none';\n",
              "\n",
              "      async function convertToInteractive(key) {\n",
              "        const element = document.querySelector('#df-e5d2090d-15f9-466a-bc91-35ac571511cb');\n",
              "        const dataTable =\n",
              "          await google.colab.kernel.invokeFunction('convertToInteractive',\n",
              "                                                    [key], {});\n",
              "        if (!dataTable) return;\n",
              "\n",
              "        const docLinkHtml = 'Like what you see? Visit the ' +\n",
              "          '<a target=\"_blank\" href=https://colab.research.google.com/notebooks/data_table.ipynb>data table notebook</a>'\n",
              "          + ' to learn more about interactive tables.';\n",
              "        element.innerHTML = '';\n",
              "        dataTable['output_type'] = 'display_data';\n",
              "        await google.colab.output.renderOutput(dataTable, element);\n",
              "        const docLink = document.createElement('div');\n",
              "        docLink.innerHTML = docLinkHtml;\n",
              "        element.appendChild(docLink);\n",
              "      }\n",
              "    </script>\n",
              "  </div>\n",
              "\n",
              "\n",
              "<div id=\"df-f7d0d893-c20d-45cb-a4df-7c5822865ef0\">\n",
              "  <button class=\"colab-df-quickchart\" onclick=\"quickchart('df-f7d0d893-c20d-45cb-a4df-7c5822865ef0')\"\n",
              "            title=\"Suggest charts\"\n",
              "            style=\"display:none;\">\n",
              "\n",
              "<svg xmlns=\"http://www.w3.org/2000/svg\" height=\"24px\"viewBox=\"0 0 24 24\"\n",
              "     width=\"24px\">\n",
              "    <g>\n",
              "        <path d=\"M19 3H5c-1.1 0-2 .9-2 2v14c0 1.1.9 2 2 2h14c1.1 0 2-.9 2-2V5c0-1.1-.9-2-2-2zM9 17H7v-7h2v7zm4 0h-2V7h2v10zm4 0h-2v-4h2v4z\"/>\n",
              "    </g>\n",
              "</svg>\n",
              "  </button>\n",
              "\n",
              "<style>\n",
              "  .colab-df-quickchart {\n",
              "      --bg-color: #E8F0FE;\n",
              "      --fill-color: #1967D2;\n",
              "      --hover-bg-color: #E2EBFA;\n",
              "      --hover-fill-color: #174EA6;\n",
              "      --disabled-fill-color: #AAA;\n",
              "      --disabled-bg-color: #DDD;\n",
              "  }\n",
              "\n",
              "  [theme=dark] .colab-df-quickchart {\n",
              "      --bg-color: #3B4455;\n",
              "      --fill-color: #D2E3FC;\n",
              "      --hover-bg-color: #434B5C;\n",
              "      --hover-fill-color: #FFFFFF;\n",
              "      --disabled-bg-color: #3B4455;\n",
              "      --disabled-fill-color: #666;\n",
              "  }\n",
              "\n",
              "  .colab-df-quickchart {\n",
              "    background-color: var(--bg-color);\n",
              "    border: none;\n",
              "    border-radius: 50%;\n",
              "    cursor: pointer;\n",
              "    display: none;\n",
              "    fill: var(--fill-color);\n",
              "    height: 32px;\n",
              "    padding: 0;\n",
              "    width: 32px;\n",
              "  }\n",
              "\n",
              "  .colab-df-quickchart:hover {\n",
              "    background-color: var(--hover-bg-color);\n",
              "    box-shadow: 0 1px 2px rgba(60, 64, 67, 0.3), 0 1px 3px 1px rgba(60, 64, 67, 0.15);\n",
              "    fill: var(--button-hover-fill-color);\n",
              "  }\n",
              "\n",
              "  .colab-df-quickchart-complete:disabled,\n",
              "  .colab-df-quickchart-complete:disabled:hover {\n",
              "    background-color: var(--disabled-bg-color);\n",
              "    fill: var(--disabled-fill-color);\n",
              "    box-shadow: none;\n",
              "  }\n",
              "\n",
              "  .colab-df-spinner {\n",
              "    border: 2px solid var(--fill-color);\n",
              "    border-color: transparent;\n",
              "    border-bottom-color: var(--fill-color);\n",
              "    animation:\n",
              "      spin 1s steps(1) infinite;\n",
              "  }\n",
              "\n",
              "  @keyframes spin {\n",
              "    0% {\n",
              "      border-color: transparent;\n",
              "      border-bottom-color: var(--fill-color);\n",
              "      border-left-color: var(--fill-color);\n",
              "    }\n",
              "    20% {\n",
              "      border-color: transparent;\n",
              "      border-left-color: var(--fill-color);\n",
              "      border-top-color: var(--fill-color);\n",
              "    }\n",
              "    30% {\n",
              "      border-color: transparent;\n",
              "      border-left-color: var(--fill-color);\n",
              "      border-top-color: var(--fill-color);\n",
              "      border-right-color: var(--fill-color);\n",
              "    }\n",
              "    40% {\n",
              "      border-color: transparent;\n",
              "      border-right-color: var(--fill-color);\n",
              "      border-top-color: var(--fill-color);\n",
              "    }\n",
              "    60% {\n",
              "      border-color: transparent;\n",
              "      border-right-color: var(--fill-color);\n",
              "    }\n",
              "    80% {\n",
              "      border-color: transparent;\n",
              "      border-right-color: var(--fill-color);\n",
              "      border-bottom-color: var(--fill-color);\n",
              "    }\n",
              "    90% {\n",
              "      border-color: transparent;\n",
              "      border-bottom-color: var(--fill-color);\n",
              "    }\n",
              "  }\n",
              "</style>\n",
              "\n",
              "  <script>\n",
              "    async function quickchart(key) {\n",
              "      const quickchartButtonEl =\n",
              "        document.querySelector('#' + key + ' button');\n",
              "      quickchartButtonEl.disabled = true;  // To prevent multiple clicks.\n",
              "      quickchartButtonEl.classList.add('colab-df-spinner');\n",
              "      try {\n",
              "        const charts = await google.colab.kernel.invokeFunction(\n",
              "            'suggestCharts', [key], {});\n",
              "      } catch (error) {\n",
              "        console.error('Error during call to suggestCharts:', error);\n",
              "      }\n",
              "      quickchartButtonEl.classList.remove('colab-df-spinner');\n",
              "      quickchartButtonEl.classList.add('colab-df-quickchart-complete');\n",
              "    }\n",
              "    (() => {\n",
              "      let quickchartButtonEl =\n",
              "        document.querySelector('#df-f7d0d893-c20d-45cb-a4df-7c5822865ef0 button');\n",
              "      quickchartButtonEl.style.display =\n",
              "        google.colab.kernel.accessAllowed ? 'block' : 'none';\n",
              "    })();\n",
              "  </script>\n",
              "</div>\n",
              "    </div>\n",
              "  </div>\n"
            ]
          },
          "metadata": {},
          "execution_count": 66
        }
      ]
    },
    {
      "cell_type": "code",
      "source": [
        "test_data['Label'] = test_data['cleaned'].apply(predictor.predict)"
      ],
      "metadata": {
        "trusted": true,
        "id": "NSAkUr9J0WRf"
      },
      "execution_count": null,
      "outputs": []
    },
    {
      "cell_type": "code",
      "source": [
        "test_data.sample(10)"
      ],
      "metadata": {
        "trusted": true,
        "id": "7S05zm9l0WRf",
        "colab": {
          "base_uri": "https://localhost:8080/",
          "height": 467
        },
        "outputId": "e6eeddb1-0887-43bf-b972-d23b9e585c02"
      },
      "execution_count": null,
      "outputs": [
        {
          "output_type": "execute_result",
          "data": {
            "text/plain": [
              "     Unnamed: 0                                               text  \\\n",
              "506         506  തിരുവാതിര കളിക്കാന്‍ Parda ക്കാരെ ആരെയും കണ്ടി...   \n",
              "57           57  ഇതു സത്യമണ്ണെകിൽ എല്ലാ രാഷ്ട്രങ്ങൾ ഒത്തു ചേർന്...   \n",
              "167         167  എന്നിട്ടും പ്രവാസികൾക്ക് ആണ് നിർബന്ധിത ക്വാറന്...   \n",
              "304         304  അധികാരത്തിൽ എത്തിക്കഴിയുമ്പോൾ എല്ലാവരും ഇതേരീത...   \n",
              "760         760                        Nalla role model government   \n",
              "375         375  Cpm thanne ee parupadi kal ellam cheyunnathe j...   \n",
              "64           64                         Panna rascal  paranaari...   \n",
              "15           15  പല വസ്തുതകൾ   പഠന വിധേയമാക്കിയിട്ടില്ല . ചൈന  ...   \n",
              "916         916  എന്ന പിന്നെ കൊറോണ കഴിഞ ഒരു യുദ്ധവും പ്രതീക്ഷിക...   \n",
              "397         397  പിണറായി ഭഗവാനും വീണ ഭഗവതിയും നമ്മളെ രക്ഷിക്കും🙏😥🙏   \n",
              "\n",
              "                                               cleaned  \\\n",
              "506  തിരുവാതിര കളിക്കാന്‍ പർദ ക്കാരെ ആരെയും കണ്ടില്...   \n",
              "57   ഇതു സത്യമണ്ണെകിൽ എല്ലാ രാഷ്ട്രങ്ങൾ ഒത്തു ചേർന്...   \n",
              "167  എന്നിട്ടും പ്രവാസികൾക്ക് ആണ് നിർബന്ധിത ക്വാറന്...   \n",
              "304  അധികാരത്തിൽ എത്തിക്കഴിയുമ്പോൾ എല്ലാവരും ഇതേരീത...   \n",
              "760                          നല്ല റോൾ മോഡൽ ഗവർണ്മെന്റ്   \n",
              "375  സിപിഎം തന്നെ ഇഇ പരുപാടി കാൽ എല്ലാം ചെയുന്നതെ ജ...   \n",
              "64                                  പന്ന റാസ്കൽ പരനാറി   \n",
              "15   പല വസ്തുതകൾ പഠന വിധേയമാക്കിയിട്ടില്ല ചൈന മാത്ര...   \n",
              "916  എന്ന പിന്നെ കൊറോണ കഴിഞ ഒരു യുദ്ധവും പ്രതീക്ഷിക...   \n",
              "397    പിണറായി ഭഗവാനും വീണ ഭഗവതിയും നമ്മളെ രക്ഷിക്കും    \n",
              "\n",
              "                                   transliterated_text     Label  \n",
              "506  തിരുവാതിര കളിക്കാന്‍ പർദ ക്കാരെ ആരെയും കണ്ടില്...  original  \n",
              "57   ഇതു സത്യമണ്ണെകിൽ എല്ലാ രാഷ്ട്രങ്ങൾ ഒത്തു ചേർന്...      Fake  \n",
              "167  എന്നിട്ടും പ്രവാസികൾക്ക് ആണ് നിർബന്ധിത ക്വാറന്...  original  \n",
              "304  അധികാരത്തിൽ എത്തിക്കഴിയുമ്പോൾ എല്ലാവരും ഇതേരീത...  original  \n",
              "760                          നല്ല റോൾ മോഡൽ ഗവർണ്മെന്റ്  original  \n",
              "375  സിപിഎം തന്നെ ഇഇ പരുപാടി കാൽ എല്ലാം ചെയുന്നതെ ജ...  original  \n",
              "64                                 പന്ന റാസ്കൽ  പരനാറി      Fake  \n",
              "15   പല വസ്തുതകൾ   പഠന വിധേയമാക്കിയിട്ടില്ല  ചൈന  മ...      Fake  \n",
              "916  എന്ന പിന്നെ കൊറോണ കഴിഞ ഒരു യുദ്ധവും പ്രതീക്ഷിക...      Fake  \n",
              "397  പിണറായി ഭഗവാനും വീണ ഭഗവതിയും നമ്മളെ രക്ഷിക്കും🙏😥🙏  original  "
            ],
            "text/html": [
              "\n",
              "  <div id=\"df-cd06c455-5c8b-4547-9fa3-e933548c168e\" class=\"colab-df-container\">\n",
              "    <div>\n",
              "<style scoped>\n",
              "    .dataframe tbody tr th:only-of-type {\n",
              "        vertical-align: middle;\n",
              "    }\n",
              "\n",
              "    .dataframe tbody tr th {\n",
              "        vertical-align: top;\n",
              "    }\n",
              "\n",
              "    .dataframe thead th {\n",
              "        text-align: right;\n",
              "    }\n",
              "</style>\n",
              "<table border=\"1\" class=\"dataframe\">\n",
              "  <thead>\n",
              "    <tr style=\"text-align: right;\">\n",
              "      <th></th>\n",
              "      <th>Unnamed: 0</th>\n",
              "      <th>text</th>\n",
              "      <th>cleaned</th>\n",
              "      <th>transliterated_text</th>\n",
              "      <th>Label</th>\n",
              "    </tr>\n",
              "  </thead>\n",
              "  <tbody>\n",
              "    <tr>\n",
              "      <th>506</th>\n",
              "      <td>506</td>\n",
              "      <td>തിരുവാതിര കളിക്കാന്‍ Parda ക്കാരെ ആരെയും കണ്ടി...</td>\n",
              "      <td>തിരുവാതിര കളിക്കാന്‍ പർദ ക്കാരെ ആരെയും കണ്ടില്...</td>\n",
              "      <td>തിരുവാതിര കളിക്കാന്‍ പർദ ക്കാരെ ആരെയും കണ്ടില്...</td>\n",
              "      <td>original</td>\n",
              "    </tr>\n",
              "    <tr>\n",
              "      <th>57</th>\n",
              "      <td>57</td>\n",
              "      <td>ഇതു സത്യമണ്ണെകിൽ എല്ലാ രാഷ്ട്രങ്ങൾ ഒത്തു ചേർന്...</td>\n",
              "      <td>ഇതു സത്യമണ്ണെകിൽ എല്ലാ രാഷ്ട്രങ്ങൾ ഒത്തു ചേർന്...</td>\n",
              "      <td>ഇതു സത്യമണ്ണെകിൽ എല്ലാ രാഷ്ട്രങ്ങൾ ഒത്തു ചേർന്...</td>\n",
              "      <td>Fake</td>\n",
              "    </tr>\n",
              "    <tr>\n",
              "      <th>167</th>\n",
              "      <td>167</td>\n",
              "      <td>എന്നിട്ടും പ്രവാസികൾക്ക് ആണ് നിർബന്ധിത ക്വാറന്...</td>\n",
              "      <td>എന്നിട്ടും പ്രവാസികൾക്ക് ആണ് നിർബന്ധിത ക്വാറന്...</td>\n",
              "      <td>എന്നിട്ടും പ്രവാസികൾക്ക് ആണ് നിർബന്ധിത ക്വാറന്...</td>\n",
              "      <td>original</td>\n",
              "    </tr>\n",
              "    <tr>\n",
              "      <th>304</th>\n",
              "      <td>304</td>\n",
              "      <td>അധികാരത്തിൽ എത്തിക്കഴിയുമ്പോൾ എല്ലാവരും ഇതേരീത...</td>\n",
              "      <td>അധികാരത്തിൽ എത്തിക്കഴിയുമ്പോൾ എല്ലാവരും ഇതേരീത...</td>\n",
              "      <td>അധികാരത്തിൽ എത്തിക്കഴിയുമ്പോൾ എല്ലാവരും ഇതേരീത...</td>\n",
              "      <td>original</td>\n",
              "    </tr>\n",
              "    <tr>\n",
              "      <th>760</th>\n",
              "      <td>760</td>\n",
              "      <td>Nalla role model government</td>\n",
              "      <td>നല്ല റോൾ മോഡൽ ഗവർണ്മെന്റ്</td>\n",
              "      <td>നല്ല റോൾ മോഡൽ ഗവർണ്മെന്റ്</td>\n",
              "      <td>original</td>\n",
              "    </tr>\n",
              "    <tr>\n",
              "      <th>375</th>\n",
              "      <td>375</td>\n",
              "      <td>Cpm thanne ee parupadi kal ellam cheyunnathe j...</td>\n",
              "      <td>സിപിഎം തന്നെ ഇഇ പരുപാടി കാൽ എല്ലാം ചെയുന്നതെ ജ...</td>\n",
              "      <td>സിപിഎം തന്നെ ഇഇ പരുപാടി കാൽ എല്ലാം ചെയുന്നതെ ജ...</td>\n",
              "      <td>original</td>\n",
              "    </tr>\n",
              "    <tr>\n",
              "      <th>64</th>\n",
              "      <td>64</td>\n",
              "      <td>Panna rascal  paranaari...</td>\n",
              "      <td>പന്ന റാസ്കൽ പരനാറി</td>\n",
              "      <td>പന്ന റാസ്കൽ  പരനാറി</td>\n",
              "      <td>Fake</td>\n",
              "    </tr>\n",
              "    <tr>\n",
              "      <th>15</th>\n",
              "      <td>15</td>\n",
              "      <td>പല വസ്തുതകൾ   പഠന വിധേയമാക്കിയിട്ടില്ല . ചൈന  ...</td>\n",
              "      <td>പല വസ്തുതകൾ പഠന വിധേയമാക്കിയിട്ടില്ല ചൈന മാത്ര...</td>\n",
              "      <td>പല വസ്തുതകൾ   പഠന വിധേയമാക്കിയിട്ടില്ല  ചൈന  മ...</td>\n",
              "      <td>Fake</td>\n",
              "    </tr>\n",
              "    <tr>\n",
              "      <th>916</th>\n",
              "      <td>916</td>\n",
              "      <td>എന്ന പിന്നെ കൊറോണ കഴിഞ ഒരു യുദ്ധവും പ്രതീക്ഷിക...</td>\n",
              "      <td>എന്ന പിന്നെ കൊറോണ കഴിഞ ഒരു യുദ്ധവും പ്രതീക്ഷിക...</td>\n",
              "      <td>എന്ന പിന്നെ കൊറോണ കഴിഞ ഒരു യുദ്ധവും പ്രതീക്ഷിക...</td>\n",
              "      <td>Fake</td>\n",
              "    </tr>\n",
              "    <tr>\n",
              "      <th>397</th>\n",
              "      <td>397</td>\n",
              "      <td>പിണറായി ഭഗവാനും വീണ ഭഗവതിയും നമ്മളെ രക്ഷിക്കും🙏😥🙏</td>\n",
              "      <td>പിണറായി ഭഗവാനും വീണ ഭഗവതിയും നമ്മളെ രക്ഷിക്കും</td>\n",
              "      <td>പിണറായി ഭഗവാനും വീണ ഭഗവതിയും നമ്മളെ രക്ഷിക്കും🙏😥🙏</td>\n",
              "      <td>original</td>\n",
              "    </tr>\n",
              "  </tbody>\n",
              "</table>\n",
              "</div>\n",
              "    <div class=\"colab-df-buttons\">\n",
              "\n",
              "  <div class=\"colab-df-container\">\n",
              "    <button class=\"colab-df-convert\" onclick=\"convertToInteractive('df-cd06c455-5c8b-4547-9fa3-e933548c168e')\"\n",
              "            title=\"Convert this dataframe to an interactive table.\"\n",
              "            style=\"display:none;\">\n",
              "\n",
              "  <svg xmlns=\"http://www.w3.org/2000/svg\" height=\"24px\" viewBox=\"0 -960 960 960\">\n",
              "    <path d=\"M120-120v-720h720v720H120Zm60-500h600v-160H180v160Zm220 220h160v-160H400v160Zm0 220h160v-160H400v160ZM180-400h160v-160H180v160Zm440 0h160v-160H620v160ZM180-180h160v-160H180v160Zm440 0h160v-160H620v160Z\"/>\n",
              "  </svg>\n",
              "    </button>\n",
              "\n",
              "  <style>\n",
              "    .colab-df-container {\n",
              "      display:flex;\n",
              "      gap: 12px;\n",
              "    }\n",
              "\n",
              "    .colab-df-convert {\n",
              "      background-color: #E8F0FE;\n",
              "      border: none;\n",
              "      border-radius: 50%;\n",
              "      cursor: pointer;\n",
              "      display: none;\n",
              "      fill: #1967D2;\n",
              "      height: 32px;\n",
              "      padding: 0 0 0 0;\n",
              "      width: 32px;\n",
              "    }\n",
              "\n",
              "    .colab-df-convert:hover {\n",
              "      background-color: #E2EBFA;\n",
              "      box-shadow: 0px 1px 2px rgba(60, 64, 67, 0.3), 0px 1px 3px 1px rgba(60, 64, 67, 0.15);\n",
              "      fill: #174EA6;\n",
              "    }\n",
              "\n",
              "    .colab-df-buttons div {\n",
              "      margin-bottom: 4px;\n",
              "    }\n",
              "\n",
              "    [theme=dark] .colab-df-convert {\n",
              "      background-color: #3B4455;\n",
              "      fill: #D2E3FC;\n",
              "    }\n",
              "\n",
              "    [theme=dark] .colab-df-convert:hover {\n",
              "      background-color: #434B5C;\n",
              "      box-shadow: 0px 1px 3px 1px rgba(0, 0, 0, 0.15);\n",
              "      filter: drop-shadow(0px 1px 2px rgba(0, 0, 0, 0.3));\n",
              "      fill: #FFFFFF;\n",
              "    }\n",
              "  </style>\n",
              "\n",
              "    <script>\n",
              "      const buttonEl =\n",
              "        document.querySelector('#df-cd06c455-5c8b-4547-9fa3-e933548c168e button.colab-df-convert');\n",
              "      buttonEl.style.display =\n",
              "        google.colab.kernel.accessAllowed ? 'block' : 'none';\n",
              "\n",
              "      async function convertToInteractive(key) {\n",
              "        const element = document.querySelector('#df-cd06c455-5c8b-4547-9fa3-e933548c168e');\n",
              "        const dataTable =\n",
              "          await google.colab.kernel.invokeFunction('convertToInteractive',\n",
              "                                                    [key], {});\n",
              "        if (!dataTable) return;\n",
              "\n",
              "        const docLinkHtml = 'Like what you see? Visit the ' +\n",
              "          '<a target=\"_blank\" href=https://colab.research.google.com/notebooks/data_table.ipynb>data table notebook</a>'\n",
              "          + ' to learn more about interactive tables.';\n",
              "        element.innerHTML = '';\n",
              "        dataTable['output_type'] = 'display_data';\n",
              "        await google.colab.output.renderOutput(dataTable, element);\n",
              "        const docLink = document.createElement('div');\n",
              "        docLink.innerHTML = docLinkHtml;\n",
              "        element.appendChild(docLink);\n",
              "      }\n",
              "    </script>\n",
              "  </div>\n",
              "\n",
              "\n",
              "<div id=\"df-cef93184-ae96-4c74-969a-5bae37d56696\">\n",
              "  <button class=\"colab-df-quickchart\" onclick=\"quickchart('df-cef93184-ae96-4c74-969a-5bae37d56696')\"\n",
              "            title=\"Suggest charts\"\n",
              "            style=\"display:none;\">\n",
              "\n",
              "<svg xmlns=\"http://www.w3.org/2000/svg\" height=\"24px\"viewBox=\"0 0 24 24\"\n",
              "     width=\"24px\">\n",
              "    <g>\n",
              "        <path d=\"M19 3H5c-1.1 0-2 .9-2 2v14c0 1.1.9 2 2 2h14c1.1 0 2-.9 2-2V5c0-1.1-.9-2-2-2zM9 17H7v-7h2v7zm4 0h-2V7h2v10zm4 0h-2v-4h2v4z\"/>\n",
              "    </g>\n",
              "</svg>\n",
              "  </button>\n",
              "\n",
              "<style>\n",
              "  .colab-df-quickchart {\n",
              "      --bg-color: #E8F0FE;\n",
              "      --fill-color: #1967D2;\n",
              "      --hover-bg-color: #E2EBFA;\n",
              "      --hover-fill-color: #174EA6;\n",
              "      --disabled-fill-color: #AAA;\n",
              "      --disabled-bg-color: #DDD;\n",
              "  }\n",
              "\n",
              "  [theme=dark] .colab-df-quickchart {\n",
              "      --bg-color: #3B4455;\n",
              "      --fill-color: #D2E3FC;\n",
              "      --hover-bg-color: #434B5C;\n",
              "      --hover-fill-color: #FFFFFF;\n",
              "      --disabled-bg-color: #3B4455;\n",
              "      --disabled-fill-color: #666;\n",
              "  }\n",
              "\n",
              "  .colab-df-quickchart {\n",
              "    background-color: var(--bg-color);\n",
              "    border: none;\n",
              "    border-radius: 50%;\n",
              "    cursor: pointer;\n",
              "    display: none;\n",
              "    fill: var(--fill-color);\n",
              "    height: 32px;\n",
              "    padding: 0;\n",
              "    width: 32px;\n",
              "  }\n",
              "\n",
              "  .colab-df-quickchart:hover {\n",
              "    background-color: var(--hover-bg-color);\n",
              "    box-shadow: 0 1px 2px rgba(60, 64, 67, 0.3), 0 1px 3px 1px rgba(60, 64, 67, 0.15);\n",
              "    fill: var(--button-hover-fill-color);\n",
              "  }\n",
              "\n",
              "  .colab-df-quickchart-complete:disabled,\n",
              "  .colab-df-quickchart-complete:disabled:hover {\n",
              "    background-color: var(--disabled-bg-color);\n",
              "    fill: var(--disabled-fill-color);\n",
              "    box-shadow: none;\n",
              "  }\n",
              "\n",
              "  .colab-df-spinner {\n",
              "    border: 2px solid var(--fill-color);\n",
              "    border-color: transparent;\n",
              "    border-bottom-color: var(--fill-color);\n",
              "    animation:\n",
              "      spin 1s steps(1) infinite;\n",
              "  }\n",
              "\n",
              "  @keyframes spin {\n",
              "    0% {\n",
              "      border-color: transparent;\n",
              "      border-bottom-color: var(--fill-color);\n",
              "      border-left-color: var(--fill-color);\n",
              "    }\n",
              "    20% {\n",
              "      border-color: transparent;\n",
              "      border-left-color: var(--fill-color);\n",
              "      border-top-color: var(--fill-color);\n",
              "    }\n",
              "    30% {\n",
              "      border-color: transparent;\n",
              "      border-left-color: var(--fill-color);\n",
              "      border-top-color: var(--fill-color);\n",
              "      border-right-color: var(--fill-color);\n",
              "    }\n",
              "    40% {\n",
              "      border-color: transparent;\n",
              "      border-right-color: var(--fill-color);\n",
              "      border-top-color: var(--fill-color);\n",
              "    }\n",
              "    60% {\n",
              "      border-color: transparent;\n",
              "      border-right-color: var(--fill-color);\n",
              "    }\n",
              "    80% {\n",
              "      border-color: transparent;\n",
              "      border-right-color: var(--fill-color);\n",
              "      border-bottom-color: var(--fill-color);\n",
              "    }\n",
              "    90% {\n",
              "      border-color: transparent;\n",
              "      border-bottom-color: var(--fill-color);\n",
              "    }\n",
              "  }\n",
              "</style>\n",
              "\n",
              "  <script>\n",
              "    async function quickchart(key) {\n",
              "      const quickchartButtonEl =\n",
              "        document.querySelector('#' + key + ' button');\n",
              "      quickchartButtonEl.disabled = true;  // To prevent multiple clicks.\n",
              "      quickchartButtonEl.classList.add('colab-df-spinner');\n",
              "      try {\n",
              "        const charts = await google.colab.kernel.invokeFunction(\n",
              "            'suggestCharts', [key], {});\n",
              "      } catch (error) {\n",
              "        console.error('Error during call to suggestCharts:', error);\n",
              "      }\n",
              "      quickchartButtonEl.classList.remove('colab-df-spinner');\n",
              "      quickchartButtonEl.classList.add('colab-df-quickchart-complete');\n",
              "    }\n",
              "    (() => {\n",
              "      let quickchartButtonEl =\n",
              "        document.querySelector('#df-cef93184-ae96-4c74-969a-5bae37d56696 button');\n",
              "      quickchartButtonEl.style.display =\n",
              "        google.colab.kernel.accessAllowed ? 'block' : 'none';\n",
              "    })();\n",
              "  </script>\n",
              "</div>\n",
              "    </div>\n",
              "  </div>\n"
            ]
          },
          "metadata": {},
          "execution_count": 71
        }
      ]
    },
    {
      "cell_type": "code",
      "source": [
        "final_output = test_data[['text', 'Label']]\n",
        "final_output = final_output.rename(columns={'text': 'Text'})\n",
        "\n",
        "final_output.sample(10)"
      ],
      "metadata": {
        "trusted": true,
        "id": "Q1PT_anD0WRf",
        "colab": {
          "base_uri": "https://localhost:8080/",
          "height": 363
        },
        "outputId": "0e92bbed-2a65-4a11-9618-38519eb7d072"
      },
      "execution_count": null,
      "outputs": [
        {
          "output_type": "execute_result",
          "data": {
            "text/plain": [
              "                                                  Text     Label\n",
              "477                      Pravasikal  ano koronakkar...  original\n",
              "554  ഇ രാഷ്ട്രീയക്കാർക്ക് എന്നാ നേരം വെളുക്കുക വീണ്...  original\n",
              "622                       എന്റെ പാറശാലയെ കാത്തോളണേ 😂😂😂  original\n",
              "550  ividathepole azhinjadan samathikkilla  thattik...      Fake\n",
              "304  അധികാരത്തിൽ എത്തിക്കഴിയുമ്പോൾ എല്ലാവരും ഇതേരീത...  original\n",
              "888  Ini aryippu Varum veettil vare samoohika akala...  original\n",
              "72   കൊറോണ സിപിഎം നേയും dyfi. യേയും ഭയക്കുന്നു. ബക്...  original\n",
              "208  ഇവന്മാരെ വീണ്ടും ജയിപ്പിച്ചു വിട്ടത് ആണ് നമ്മൾ...  original\n",
              "451                                        Maha kallan  original\n",
              "488  Ethinokke paranju vidunna, veetukkare paranjal...  original"
            ],
            "text/html": [
              "\n",
              "  <div id=\"df-6b69e667-ba43-49ba-beff-49e23b7bbcd7\" class=\"colab-df-container\">\n",
              "    <div>\n",
              "<style scoped>\n",
              "    .dataframe tbody tr th:only-of-type {\n",
              "        vertical-align: middle;\n",
              "    }\n",
              "\n",
              "    .dataframe tbody tr th {\n",
              "        vertical-align: top;\n",
              "    }\n",
              "\n",
              "    .dataframe thead th {\n",
              "        text-align: right;\n",
              "    }\n",
              "</style>\n",
              "<table border=\"1\" class=\"dataframe\">\n",
              "  <thead>\n",
              "    <tr style=\"text-align: right;\">\n",
              "      <th></th>\n",
              "      <th>Text</th>\n",
              "      <th>Label</th>\n",
              "    </tr>\n",
              "  </thead>\n",
              "  <tbody>\n",
              "    <tr>\n",
              "      <th>477</th>\n",
              "      <td>Pravasikal  ano koronakkar...</td>\n",
              "      <td>original</td>\n",
              "    </tr>\n",
              "    <tr>\n",
              "      <th>554</th>\n",
              "      <td>ഇ രാഷ്ട്രീയക്കാർക്ക് എന്നാ നേരം വെളുക്കുക വീണ്...</td>\n",
              "      <td>original</td>\n",
              "    </tr>\n",
              "    <tr>\n",
              "      <th>622</th>\n",
              "      <td>എന്റെ പാറശാലയെ കാത്തോളണേ 😂😂😂</td>\n",
              "      <td>original</td>\n",
              "    </tr>\n",
              "    <tr>\n",
              "      <th>550</th>\n",
              "      <td>ividathepole azhinjadan samathikkilla  thattik...</td>\n",
              "      <td>Fake</td>\n",
              "    </tr>\n",
              "    <tr>\n",
              "      <th>304</th>\n",
              "      <td>അധികാരത്തിൽ എത്തിക്കഴിയുമ്പോൾ എല്ലാവരും ഇതേരീത...</td>\n",
              "      <td>original</td>\n",
              "    </tr>\n",
              "    <tr>\n",
              "      <th>888</th>\n",
              "      <td>Ini aryippu Varum veettil vare samoohika akala...</td>\n",
              "      <td>original</td>\n",
              "    </tr>\n",
              "    <tr>\n",
              "      <th>72</th>\n",
              "      <td>കൊറോണ സിപിഎം നേയും dyfi. യേയും ഭയക്കുന്നു. ബക്...</td>\n",
              "      <td>original</td>\n",
              "    </tr>\n",
              "    <tr>\n",
              "      <th>208</th>\n",
              "      <td>ഇവന്മാരെ വീണ്ടും ജയിപ്പിച്ചു വിട്ടത് ആണ് നമ്മൾ...</td>\n",
              "      <td>original</td>\n",
              "    </tr>\n",
              "    <tr>\n",
              "      <th>451</th>\n",
              "      <td>Maha kallan</td>\n",
              "      <td>original</td>\n",
              "    </tr>\n",
              "    <tr>\n",
              "      <th>488</th>\n",
              "      <td>Ethinokke paranju vidunna, veetukkare paranjal...</td>\n",
              "      <td>original</td>\n",
              "    </tr>\n",
              "  </tbody>\n",
              "</table>\n",
              "</div>\n",
              "    <div class=\"colab-df-buttons\">\n",
              "\n",
              "  <div class=\"colab-df-container\">\n",
              "    <button class=\"colab-df-convert\" onclick=\"convertToInteractive('df-6b69e667-ba43-49ba-beff-49e23b7bbcd7')\"\n",
              "            title=\"Convert this dataframe to an interactive table.\"\n",
              "            style=\"display:none;\">\n",
              "\n",
              "  <svg xmlns=\"http://www.w3.org/2000/svg\" height=\"24px\" viewBox=\"0 -960 960 960\">\n",
              "    <path d=\"M120-120v-720h720v720H120Zm60-500h600v-160H180v160Zm220 220h160v-160H400v160Zm0 220h160v-160H400v160ZM180-400h160v-160H180v160Zm440 0h160v-160H620v160ZM180-180h160v-160H180v160Zm440 0h160v-160H620v160Z\"/>\n",
              "  </svg>\n",
              "    </button>\n",
              "\n",
              "  <style>\n",
              "    .colab-df-container {\n",
              "      display:flex;\n",
              "      gap: 12px;\n",
              "    }\n",
              "\n",
              "    .colab-df-convert {\n",
              "      background-color: #E8F0FE;\n",
              "      border: none;\n",
              "      border-radius: 50%;\n",
              "      cursor: pointer;\n",
              "      display: none;\n",
              "      fill: #1967D2;\n",
              "      height: 32px;\n",
              "      padding: 0 0 0 0;\n",
              "      width: 32px;\n",
              "    }\n",
              "\n",
              "    .colab-df-convert:hover {\n",
              "      background-color: #E2EBFA;\n",
              "      box-shadow: 0px 1px 2px rgba(60, 64, 67, 0.3), 0px 1px 3px 1px rgba(60, 64, 67, 0.15);\n",
              "      fill: #174EA6;\n",
              "    }\n",
              "\n",
              "    .colab-df-buttons div {\n",
              "      margin-bottom: 4px;\n",
              "    }\n",
              "\n",
              "    [theme=dark] .colab-df-convert {\n",
              "      background-color: #3B4455;\n",
              "      fill: #D2E3FC;\n",
              "    }\n",
              "\n",
              "    [theme=dark] .colab-df-convert:hover {\n",
              "      background-color: #434B5C;\n",
              "      box-shadow: 0px 1px 3px 1px rgba(0, 0, 0, 0.15);\n",
              "      filter: drop-shadow(0px 1px 2px rgba(0, 0, 0, 0.3));\n",
              "      fill: #FFFFFF;\n",
              "    }\n",
              "  </style>\n",
              "\n",
              "    <script>\n",
              "      const buttonEl =\n",
              "        document.querySelector('#df-6b69e667-ba43-49ba-beff-49e23b7bbcd7 button.colab-df-convert');\n",
              "      buttonEl.style.display =\n",
              "        google.colab.kernel.accessAllowed ? 'block' : 'none';\n",
              "\n",
              "      async function convertToInteractive(key) {\n",
              "        const element = document.querySelector('#df-6b69e667-ba43-49ba-beff-49e23b7bbcd7');\n",
              "        const dataTable =\n",
              "          await google.colab.kernel.invokeFunction('convertToInteractive',\n",
              "                                                    [key], {});\n",
              "        if (!dataTable) return;\n",
              "\n",
              "        const docLinkHtml = 'Like what you see? Visit the ' +\n",
              "          '<a target=\"_blank\" href=https://colab.research.google.com/notebooks/data_table.ipynb>data table notebook</a>'\n",
              "          + ' to learn more about interactive tables.';\n",
              "        element.innerHTML = '';\n",
              "        dataTable['output_type'] = 'display_data';\n",
              "        await google.colab.output.renderOutput(dataTable, element);\n",
              "        const docLink = document.createElement('div');\n",
              "        docLink.innerHTML = docLinkHtml;\n",
              "        element.appendChild(docLink);\n",
              "      }\n",
              "    </script>\n",
              "  </div>\n",
              "\n",
              "\n",
              "<div id=\"df-ca78803d-3700-45c6-a9f1-eb72fed09fd0\">\n",
              "  <button class=\"colab-df-quickchart\" onclick=\"quickchart('df-ca78803d-3700-45c6-a9f1-eb72fed09fd0')\"\n",
              "            title=\"Suggest charts\"\n",
              "            style=\"display:none;\">\n",
              "\n",
              "<svg xmlns=\"http://www.w3.org/2000/svg\" height=\"24px\"viewBox=\"0 0 24 24\"\n",
              "     width=\"24px\">\n",
              "    <g>\n",
              "        <path d=\"M19 3H5c-1.1 0-2 .9-2 2v14c0 1.1.9 2 2 2h14c1.1 0 2-.9 2-2V5c0-1.1-.9-2-2-2zM9 17H7v-7h2v7zm4 0h-2V7h2v10zm4 0h-2v-4h2v4z\"/>\n",
              "    </g>\n",
              "</svg>\n",
              "  </button>\n",
              "\n",
              "<style>\n",
              "  .colab-df-quickchart {\n",
              "      --bg-color: #E8F0FE;\n",
              "      --fill-color: #1967D2;\n",
              "      --hover-bg-color: #E2EBFA;\n",
              "      --hover-fill-color: #174EA6;\n",
              "      --disabled-fill-color: #AAA;\n",
              "      --disabled-bg-color: #DDD;\n",
              "  }\n",
              "\n",
              "  [theme=dark] .colab-df-quickchart {\n",
              "      --bg-color: #3B4455;\n",
              "      --fill-color: #D2E3FC;\n",
              "      --hover-bg-color: #434B5C;\n",
              "      --hover-fill-color: #FFFFFF;\n",
              "      --disabled-bg-color: #3B4455;\n",
              "      --disabled-fill-color: #666;\n",
              "  }\n",
              "\n",
              "  .colab-df-quickchart {\n",
              "    background-color: var(--bg-color);\n",
              "    border: none;\n",
              "    border-radius: 50%;\n",
              "    cursor: pointer;\n",
              "    display: none;\n",
              "    fill: var(--fill-color);\n",
              "    height: 32px;\n",
              "    padding: 0;\n",
              "    width: 32px;\n",
              "  }\n",
              "\n",
              "  .colab-df-quickchart:hover {\n",
              "    background-color: var(--hover-bg-color);\n",
              "    box-shadow: 0 1px 2px rgba(60, 64, 67, 0.3), 0 1px 3px 1px rgba(60, 64, 67, 0.15);\n",
              "    fill: var(--button-hover-fill-color);\n",
              "  }\n",
              "\n",
              "  .colab-df-quickchart-complete:disabled,\n",
              "  .colab-df-quickchart-complete:disabled:hover {\n",
              "    background-color: var(--disabled-bg-color);\n",
              "    fill: var(--disabled-fill-color);\n",
              "    box-shadow: none;\n",
              "  }\n",
              "\n",
              "  .colab-df-spinner {\n",
              "    border: 2px solid var(--fill-color);\n",
              "    border-color: transparent;\n",
              "    border-bottom-color: var(--fill-color);\n",
              "    animation:\n",
              "      spin 1s steps(1) infinite;\n",
              "  }\n",
              "\n",
              "  @keyframes spin {\n",
              "    0% {\n",
              "      border-color: transparent;\n",
              "      border-bottom-color: var(--fill-color);\n",
              "      border-left-color: var(--fill-color);\n",
              "    }\n",
              "    20% {\n",
              "      border-color: transparent;\n",
              "      border-left-color: var(--fill-color);\n",
              "      border-top-color: var(--fill-color);\n",
              "    }\n",
              "    30% {\n",
              "      border-color: transparent;\n",
              "      border-left-color: var(--fill-color);\n",
              "      border-top-color: var(--fill-color);\n",
              "      border-right-color: var(--fill-color);\n",
              "    }\n",
              "    40% {\n",
              "      border-color: transparent;\n",
              "      border-right-color: var(--fill-color);\n",
              "      border-top-color: var(--fill-color);\n",
              "    }\n",
              "    60% {\n",
              "      border-color: transparent;\n",
              "      border-right-color: var(--fill-color);\n",
              "    }\n",
              "    80% {\n",
              "      border-color: transparent;\n",
              "      border-right-color: var(--fill-color);\n",
              "      border-bottom-color: var(--fill-color);\n",
              "    }\n",
              "    90% {\n",
              "      border-color: transparent;\n",
              "      border-bottom-color: var(--fill-color);\n",
              "    }\n",
              "  }\n",
              "</style>\n",
              "\n",
              "  <script>\n",
              "    async function quickchart(key) {\n",
              "      const quickchartButtonEl =\n",
              "        document.querySelector('#' + key + ' button');\n",
              "      quickchartButtonEl.disabled = true;  // To prevent multiple clicks.\n",
              "      quickchartButtonEl.classList.add('colab-df-spinner');\n",
              "      try {\n",
              "        const charts = await google.colab.kernel.invokeFunction(\n",
              "            'suggestCharts', [key], {});\n",
              "      } catch (error) {\n",
              "        console.error('Error during call to suggestCharts:', error);\n",
              "      }\n",
              "      quickchartButtonEl.classList.remove('colab-df-spinner');\n",
              "      quickchartButtonEl.classList.add('colab-df-quickchart-complete');\n",
              "    }\n",
              "    (() => {\n",
              "      let quickchartButtonEl =\n",
              "        document.querySelector('#df-ca78803d-3700-45c6-a9f1-eb72fed09fd0 button');\n",
              "      quickchartButtonEl.style.display =\n",
              "        google.colab.kernel.accessAllowed ? 'block' : 'none';\n",
              "    })();\n",
              "  </script>\n",
              "</div>\n",
              "    </div>\n",
              "  </div>\n"
            ]
          },
          "metadata": {},
          "execution_count": 72
        }
      ]
    },
    {
      "cell_type": "code",
      "source": [
        "final_output.to_csv('/content/drive/MyDrive/Punny_Punctuators/DravidianLangTech@EACL_2024/Task_1/Punny_Punctuators_task1_run2.csv') # roberta"
      ],
      "metadata": {
        "trusted": true,
        "id": "snYQtDXU0WRf"
      },
      "execution_count": null,
      "outputs": []
    },
    {
      "cell_type": "code",
      "source": [
        "dataframe = pd.read_csv('/content/drive/MyDrive/Punny_Punctuators/DravidianLangTech@EACL_2024/Task_1/Punny_Punctuators_task1_run1.csv')\n",
        "dataframe = dataframe[['Text', 'Label']]\n",
        "dataframe.sample(10)"
      ],
      "metadata": {
        "id": "uDblE8Th6oQ2",
        "colab": {
          "base_uri": "https://localhost:8080/",
          "height": 363
        },
        "outputId": "5446cee0-5c7e-49c0-f4e9-37610ca6a21d"
      },
      "execution_count": null,
      "outputs": [
        {
          "output_type": "execute_result",
          "data": {
            "text/plain": [
              "                                                   Text     Label\n",
              "291                   Comedy show ayi poyi thiruvathira  original\n",
              "837   സിപിഎം സമ്മേളനങ്ങൾ എല്ലാം കഴിഞ്ഞാൽ കേരളം ലോക്ക...  original\n",
              "338                     WHO ക്ക് ഫണ്ട്‌ ചെയ്യുന്ന ചൈന 😑      Fake\n",
              "432   ഗംഗ പരിശുദ്ധമാണ് കോവിഡ് രോഗിയും ഗംഗയിൽ കുളിച്ച...      Fake\n",
              "479                                 ചൈന ഒരു അത്ഭുദ മാണ്      Fake\n",
              "1007  ലോകം മുഴുവനും ശോഭിച് ഇല്ലെങ്കിലും ഇന്ത്യയിൽ ഒന...      Fake\n",
              "501   Corona chinayude jaiva ayudhamaanenne nerathe ...      Fake\n",
              "739                               ഭയം വേണ്ട ജാഗ്രത മതി😂  original\n",
              "633   Evarokke varum എല്ലാം Sheri aakum!! Nalla bhar...  original\n",
              "329   നാണമില്ലേ ഇവർക്ക്  പറയുന്നത് ഒന്ന് ചെയുന്നത് മ...  original"
            ],
            "text/html": [
              "\n",
              "  <div id=\"df-f7d1a748-ca61-446c-863f-582e723ea47e\" class=\"colab-df-container\">\n",
              "    <div>\n",
              "<style scoped>\n",
              "    .dataframe tbody tr th:only-of-type {\n",
              "        vertical-align: middle;\n",
              "    }\n",
              "\n",
              "    .dataframe tbody tr th {\n",
              "        vertical-align: top;\n",
              "    }\n",
              "\n",
              "    .dataframe thead th {\n",
              "        text-align: right;\n",
              "    }\n",
              "</style>\n",
              "<table border=\"1\" class=\"dataframe\">\n",
              "  <thead>\n",
              "    <tr style=\"text-align: right;\">\n",
              "      <th></th>\n",
              "      <th>Text</th>\n",
              "      <th>Label</th>\n",
              "    </tr>\n",
              "  </thead>\n",
              "  <tbody>\n",
              "    <tr>\n",
              "      <th>291</th>\n",
              "      <td>Comedy show ayi poyi thiruvathira</td>\n",
              "      <td>original</td>\n",
              "    </tr>\n",
              "    <tr>\n",
              "      <th>837</th>\n",
              "      <td>സിപിഎം സമ്മേളനങ്ങൾ എല്ലാം കഴിഞ്ഞാൽ കേരളം ലോക്ക...</td>\n",
              "      <td>original</td>\n",
              "    </tr>\n",
              "    <tr>\n",
              "      <th>338</th>\n",
              "      <td>WHO ക്ക് ഫണ്ട്‌ ചെയ്യുന്ന ചൈന 😑</td>\n",
              "      <td>Fake</td>\n",
              "    </tr>\n",
              "    <tr>\n",
              "      <th>432</th>\n",
              "      <td>ഗംഗ പരിശുദ്ധമാണ് കോവിഡ് രോഗിയും ഗംഗയിൽ കുളിച്ച...</td>\n",
              "      <td>Fake</td>\n",
              "    </tr>\n",
              "    <tr>\n",
              "      <th>479</th>\n",
              "      <td>ചൈന ഒരു അത്ഭുദ മാണ്</td>\n",
              "      <td>Fake</td>\n",
              "    </tr>\n",
              "    <tr>\n",
              "      <th>1007</th>\n",
              "      <td>ലോകം മുഴുവനും ശോഭിച് ഇല്ലെങ്കിലും ഇന്ത്യയിൽ ഒന...</td>\n",
              "      <td>Fake</td>\n",
              "    </tr>\n",
              "    <tr>\n",
              "      <th>501</th>\n",
              "      <td>Corona chinayude jaiva ayudhamaanenne nerathe ...</td>\n",
              "      <td>Fake</td>\n",
              "    </tr>\n",
              "    <tr>\n",
              "      <th>739</th>\n",
              "      <td>ഭയം വേണ്ട ജാഗ്രത മതി😂</td>\n",
              "      <td>original</td>\n",
              "    </tr>\n",
              "    <tr>\n",
              "      <th>633</th>\n",
              "      <td>Evarokke varum എല്ലാം Sheri aakum!! Nalla bhar...</td>\n",
              "      <td>original</td>\n",
              "    </tr>\n",
              "    <tr>\n",
              "      <th>329</th>\n",
              "      <td>നാണമില്ലേ ഇവർക്ക്  പറയുന്നത് ഒന്ന് ചെയുന്നത് മ...</td>\n",
              "      <td>original</td>\n",
              "    </tr>\n",
              "  </tbody>\n",
              "</table>\n",
              "</div>\n",
              "    <div class=\"colab-df-buttons\">\n",
              "\n",
              "  <div class=\"colab-df-container\">\n",
              "    <button class=\"colab-df-convert\" onclick=\"convertToInteractive('df-f7d1a748-ca61-446c-863f-582e723ea47e')\"\n",
              "            title=\"Convert this dataframe to an interactive table.\"\n",
              "            style=\"display:none;\">\n",
              "\n",
              "  <svg xmlns=\"http://www.w3.org/2000/svg\" height=\"24px\" viewBox=\"0 -960 960 960\">\n",
              "    <path d=\"M120-120v-720h720v720H120Zm60-500h600v-160H180v160Zm220 220h160v-160H400v160Zm0 220h160v-160H400v160ZM180-400h160v-160H180v160Zm440 0h160v-160H620v160ZM180-180h160v-160H180v160Zm440 0h160v-160H620v160Z\"/>\n",
              "  </svg>\n",
              "    </button>\n",
              "\n",
              "  <style>\n",
              "    .colab-df-container {\n",
              "      display:flex;\n",
              "      gap: 12px;\n",
              "    }\n",
              "\n",
              "    .colab-df-convert {\n",
              "      background-color: #E8F0FE;\n",
              "      border: none;\n",
              "      border-radius: 50%;\n",
              "      cursor: pointer;\n",
              "      display: none;\n",
              "      fill: #1967D2;\n",
              "      height: 32px;\n",
              "      padding: 0 0 0 0;\n",
              "      width: 32px;\n",
              "    }\n",
              "\n",
              "    .colab-df-convert:hover {\n",
              "      background-color: #E2EBFA;\n",
              "      box-shadow: 0px 1px 2px rgba(60, 64, 67, 0.3), 0px 1px 3px 1px rgba(60, 64, 67, 0.15);\n",
              "      fill: #174EA6;\n",
              "    }\n",
              "\n",
              "    .colab-df-buttons div {\n",
              "      margin-bottom: 4px;\n",
              "    }\n",
              "\n",
              "    [theme=dark] .colab-df-convert {\n",
              "      background-color: #3B4455;\n",
              "      fill: #D2E3FC;\n",
              "    }\n",
              "\n",
              "    [theme=dark] .colab-df-convert:hover {\n",
              "      background-color: #434B5C;\n",
              "      box-shadow: 0px 1px 3px 1px rgba(0, 0, 0, 0.15);\n",
              "      filter: drop-shadow(0px 1px 2px rgba(0, 0, 0, 0.3));\n",
              "      fill: #FFFFFF;\n",
              "    }\n",
              "  </style>\n",
              "\n",
              "    <script>\n",
              "      const buttonEl =\n",
              "        document.querySelector('#df-f7d1a748-ca61-446c-863f-582e723ea47e button.colab-df-convert');\n",
              "      buttonEl.style.display =\n",
              "        google.colab.kernel.accessAllowed ? 'block' : 'none';\n",
              "\n",
              "      async function convertToInteractive(key) {\n",
              "        const element = document.querySelector('#df-f7d1a748-ca61-446c-863f-582e723ea47e');\n",
              "        const dataTable =\n",
              "          await google.colab.kernel.invokeFunction('convertToInteractive',\n",
              "                                                    [key], {});\n",
              "        if (!dataTable) return;\n",
              "\n",
              "        const docLinkHtml = 'Like what you see? Visit the ' +\n",
              "          '<a target=\"_blank\" href=https://colab.research.google.com/notebooks/data_table.ipynb>data table notebook</a>'\n",
              "          + ' to learn more about interactive tables.';\n",
              "        element.innerHTML = '';\n",
              "        dataTable['output_type'] = 'display_data';\n",
              "        await google.colab.output.renderOutput(dataTable, element);\n",
              "        const docLink = document.createElement('div');\n",
              "        docLink.innerHTML = docLinkHtml;\n",
              "        element.appendChild(docLink);\n",
              "      }\n",
              "    </script>\n",
              "  </div>\n",
              "\n",
              "\n",
              "<div id=\"df-dac28f33-31e8-447d-bb25-2ffa35b45c41\">\n",
              "  <button class=\"colab-df-quickchart\" onclick=\"quickchart('df-dac28f33-31e8-447d-bb25-2ffa35b45c41')\"\n",
              "            title=\"Suggest charts\"\n",
              "            style=\"display:none;\">\n",
              "\n",
              "<svg xmlns=\"http://www.w3.org/2000/svg\" height=\"24px\"viewBox=\"0 0 24 24\"\n",
              "     width=\"24px\">\n",
              "    <g>\n",
              "        <path d=\"M19 3H5c-1.1 0-2 .9-2 2v14c0 1.1.9 2 2 2h14c1.1 0 2-.9 2-2V5c0-1.1-.9-2-2-2zM9 17H7v-7h2v7zm4 0h-2V7h2v10zm4 0h-2v-4h2v4z\"/>\n",
              "    </g>\n",
              "</svg>\n",
              "  </button>\n",
              "\n",
              "<style>\n",
              "  .colab-df-quickchart {\n",
              "      --bg-color: #E8F0FE;\n",
              "      --fill-color: #1967D2;\n",
              "      --hover-bg-color: #E2EBFA;\n",
              "      --hover-fill-color: #174EA6;\n",
              "      --disabled-fill-color: #AAA;\n",
              "      --disabled-bg-color: #DDD;\n",
              "  }\n",
              "\n",
              "  [theme=dark] .colab-df-quickchart {\n",
              "      --bg-color: #3B4455;\n",
              "      --fill-color: #D2E3FC;\n",
              "      --hover-bg-color: #434B5C;\n",
              "      --hover-fill-color: #FFFFFF;\n",
              "      --disabled-bg-color: #3B4455;\n",
              "      --disabled-fill-color: #666;\n",
              "  }\n",
              "\n",
              "  .colab-df-quickchart {\n",
              "    background-color: var(--bg-color);\n",
              "    border: none;\n",
              "    border-radius: 50%;\n",
              "    cursor: pointer;\n",
              "    display: none;\n",
              "    fill: var(--fill-color);\n",
              "    height: 32px;\n",
              "    padding: 0;\n",
              "    width: 32px;\n",
              "  }\n",
              "\n",
              "  .colab-df-quickchart:hover {\n",
              "    background-color: var(--hover-bg-color);\n",
              "    box-shadow: 0 1px 2px rgba(60, 64, 67, 0.3), 0 1px 3px 1px rgba(60, 64, 67, 0.15);\n",
              "    fill: var(--button-hover-fill-color);\n",
              "  }\n",
              "\n",
              "  .colab-df-quickchart-complete:disabled,\n",
              "  .colab-df-quickchart-complete:disabled:hover {\n",
              "    background-color: var(--disabled-bg-color);\n",
              "    fill: var(--disabled-fill-color);\n",
              "    box-shadow: none;\n",
              "  }\n",
              "\n",
              "  .colab-df-spinner {\n",
              "    border: 2px solid var(--fill-color);\n",
              "    border-color: transparent;\n",
              "    border-bottom-color: var(--fill-color);\n",
              "    animation:\n",
              "      spin 1s steps(1) infinite;\n",
              "  }\n",
              "\n",
              "  @keyframes spin {\n",
              "    0% {\n",
              "      border-color: transparent;\n",
              "      border-bottom-color: var(--fill-color);\n",
              "      border-left-color: var(--fill-color);\n",
              "    }\n",
              "    20% {\n",
              "      border-color: transparent;\n",
              "      border-left-color: var(--fill-color);\n",
              "      border-top-color: var(--fill-color);\n",
              "    }\n",
              "    30% {\n",
              "      border-color: transparent;\n",
              "      border-left-color: var(--fill-color);\n",
              "      border-top-color: var(--fill-color);\n",
              "      border-right-color: var(--fill-color);\n",
              "    }\n",
              "    40% {\n",
              "      border-color: transparent;\n",
              "      border-right-color: var(--fill-color);\n",
              "      border-top-color: var(--fill-color);\n",
              "    }\n",
              "    60% {\n",
              "      border-color: transparent;\n",
              "      border-right-color: var(--fill-color);\n",
              "    }\n",
              "    80% {\n",
              "      border-color: transparent;\n",
              "      border-right-color: var(--fill-color);\n",
              "      border-bottom-color: var(--fill-color);\n",
              "    }\n",
              "    90% {\n",
              "      border-color: transparent;\n",
              "      border-bottom-color: var(--fill-color);\n",
              "    }\n",
              "  }\n",
              "</style>\n",
              "\n",
              "  <script>\n",
              "    async function quickchart(key) {\n",
              "      const quickchartButtonEl =\n",
              "        document.querySelector('#' + key + ' button');\n",
              "      quickchartButtonEl.disabled = true;  // To prevent multiple clicks.\n",
              "      quickchartButtonEl.classList.add('colab-df-spinner');\n",
              "      try {\n",
              "        const charts = await google.colab.kernel.invokeFunction(\n",
              "            'suggestCharts', [key], {});\n",
              "      } catch (error) {\n",
              "        console.error('Error during call to suggestCharts:', error);\n",
              "      }\n",
              "      quickchartButtonEl.classList.remove('colab-df-spinner');\n",
              "      quickchartButtonEl.classList.add('colab-df-quickchart-complete');\n",
              "    }\n",
              "    (() => {\n",
              "      let quickchartButtonEl =\n",
              "        document.querySelector('#df-dac28f33-31e8-447d-bb25-2ffa35b45c41 button');\n",
              "      quickchartButtonEl.style.display =\n",
              "        google.colab.kernel.accessAllowed ? 'block' : 'none';\n",
              "    })();\n",
              "  </script>\n",
              "</div>\n",
              "    </div>\n",
              "  </div>\n"
            ]
          },
          "metadata": {},
          "execution_count": 11
        }
      ]
    },
    {
      "cell_type": "code",
      "source": [
        "dataframe.to_csv('/content/drive/MyDrive/Punny_Punctuators/DravidianLangTech@EACL_2024/Task_1/Punny_Punctuators_task1_run3.csv', index=False)"
      ],
      "metadata": {
        "id": "HCB_mcxQUFdq"
      },
      "execution_count": null,
      "outputs": []
    },
    {
      "cell_type": "code",
      "source": [],
      "metadata": {
        "id": "gT-x597EdVMZ"
      },
      "execution_count": null,
      "outputs": []
    }
  ]
}